{
 "cells": [
  {
   "cell_type": "markdown",
   "metadata": {},
   "source": [
    "# Financial News Headline Sentiment Classifier\n",
    "\n",
    
    "\n",
    "**Motivation**\n",
    "Market sentiment derived from news articles is one factor that can influence trading and investment decisions. By understanding the sentiment of financial news headlines, investors, traders, and financial institutions have another tool that they can use to make more informed decisions, assess risks, and potentially even design algorithmic trading strategies. This notebook demonstrates the process of training a BERT (Bidirectional Encoder Representations from Transformers) model on the financial_phrasebank dataset that will be used to classify Marketwatch.com headlines into three sentiment categories: positive, neutral, and negative. While this exercise uses financial headlines as an input, the underlying techniques used in this notebook can be transferred to simmilar text classification tasks.\n",
    "The methods outlined in this notebook also serve as a less-complicated, indirect sample for my actual data science work making a similar transformer model for multilabel text classification.\n",
    "\n",
    "**Data Source**\n",
    "The financial_phrasebank dataset is a collection of financial news headlines for companies listed in OMX Helsinki, each labeled with a sentiment score of 2 for positive, 1 for neutral, or 0 for negative. Labels were decided upon by a group of 13 annotators at the  Aalto University School of Business in which 75% of the judges agree."
   ]
  },
  {
   "cell_type": "code",
   "execution_count": 1,
   "metadata": {},
   "outputs": [
    {
     "name": "stdout",
     "output_type": "stream",
     "text": [
      "WARNING:tensorflow:From c:\\Users\\Aum Thaker\\Desktop\\VSC\\jupyter\\myvenv\\Lib\\site-packages\\tf_keras\\src\\losses.py:2976: The name tf.losses.sparse_softmax_cross_entropy is deprecated. Please use tf.compat.v1.losses.sparse_softmax_cross_entropy instead.\n",
      "\n"
     ]
    }
   ],
   "source": [
    "import os \n",
    "import gc\n",
    "import numpy as np\n",
    "import pandas as pd\n",
    "import pyodbc as pb\n",
    "from tqdm.notebook import tqdm\n",
    "from sklearn.model_selection import StratifiedShuffleSplit\n",
    "from transformers import AutoTokenizer\n",
    "import heapq\n",
    "import torch\n",
    "import matplotlib.pyplot as plt\n",
    "from datasets import Dataset\n",
    "from transformers import (BertForSequenceClassification, \n",
    "                          AdamW, \n",
    "                          BertConfig,\n",
    "                          AutoModel, \n",
    "                          AutoModelForSequenceClassification,\n",
    "                          BitsAndBytesConfig, \n",
    "                          AutoModelForCausalLM,\n",
    "                          TrainingArguments, \n",
    "                          Trainer, \n",
    "                          EarlyStoppingCallback)\n",
    "from sklearn.metrics import accuracy_score, precision_recall_fscore_support\n",
    "import multiprocessing as mp\n",
    "from accelerate import FullyShardedDataParallelPlugin, Accelerator\n",
    "from torch.distributed.fsdp.fully_sharded_data_parallel import FullOptimStateDictConfig, FullStateDictConfig\n",
    "from peft import (LoraConfig,\n",
    "                  LoraModel,\n",
    "                  get_peft_model,)\n",
    "from torch.optim.lr_scheduler import CosineAnnealingWarmRestarts\n",
    "import bitsandbytes as bnb\n",
    "from bitsandbytes.optim import AdamW8bit\n",
    "from torch import nn\n",
    "from transformers.trainer_pt_utils import get_parameter_names\n",
    "\n"
   ]
  },
  {
   "cell_type": "code",
   "execution_count": 2,
   "metadata": {},
   "outputs": [],
   "source": [
    "# Show all dataframe columns\n",
    "pd.set_option('display.max_columns', None)"
   ]
  },
  {
   "cell_type": "code",
   "execution_count": 3,
   "metadata": {},
   "outputs": [],
   "source": [
    "from datasets import load_dataset, concatenate_datasets\n",
    "\n",
    "# Load the datasets into a pandas dataframe\n",
    "headlines = pd.DataFrame( load_dataset(\"financial_phrasebank\", \"sentences_75agree\",trust_remote_code=True)[\"train\"] )"
   ]
  },
  {
   "cell_type": "code",
   "execution_count": 4,
   "metadata": {},
   "outputs": [
    {
     "data": {
      "text/html": [
       "<div>\n",
       "<style scoped>\n",
       "    .dataframe tbody tr th:only-of-type {\n",
       "        vertical-align: middle;\n",
       "    }\n",
       "\n",
       "    .dataframe tbody tr th {\n",
       "        vertical-align: top;\n",
       "    }\n",
       "\n",
       "    .dataframe thead th {\n",
       "        text-align: right;\n",
       "    }\n",
       "</style>\n",
       "<table border=\"1\" class=\"dataframe\">\n",
       "  <thead>\n",
       "    <tr style=\"text-align: right;\">\n",
       "      <th></th>\n",
       "      <th>sentence</th>\n",
       "      <th>label</th>\n",
       "    </tr>\n",
       "  </thead>\n",
       "  <tbody>\n",
       "    <tr>\n",
       "      <th>0</th>\n",
       "      <td>According to Gran , the company has no plans t...</td>\n",
       "      <td>1</td>\n",
       "    </tr>\n",
       "    <tr>\n",
       "      <th>1</th>\n",
       "      <td>With the new production plant the company woul...</td>\n",
       "      <td>2</td>\n",
       "    </tr>\n",
       "    <tr>\n",
       "      <th>2</th>\n",
       "      <td>For the last quarter of 2010 , Componenta 's n...</td>\n",
       "      <td>2</td>\n",
       "    </tr>\n",
       "    <tr>\n",
       "      <th>3</th>\n",
       "      <td>In the third quarter of 2010 , net sales incre...</td>\n",
       "      <td>2</td>\n",
       "    </tr>\n",
       "    <tr>\n",
       "      <th>4</th>\n",
       "      <td>Operating profit rose to EUR 13.1 mn from EUR ...</td>\n",
       "      <td>2</td>\n",
       "    </tr>\n",
       "  </tbody>\n",
       "</table>\n",
       "</div>"
      ],
      "text/plain": [
       "                                            sentence  label\n",
       "0  According to Gran , the company has no plans t...      1\n",
       "1  With the new production plant the company woul...      2\n",
       "2  For the last quarter of 2010 , Componenta 's n...      2\n",
       "3  In the third quarter of 2010 , net sales incre...      2\n",
       "4  Operating profit rose to EUR 13.1 mn from EUR ...      2"
      ]
     },
     "execution_count": 4,
     "metadata": {},
     "output_type": "execute_result"
    }
   ],
   "source": [
    "headlines.head()"
   ]
  },
  {
   "cell_type": "code",
   "execution_count": 5,
   "metadata": {},
   "outputs": [
    {
     "name": "stdout",
     "output_type": "stream",
     "text": [
      "<class 'pandas.core.frame.DataFrame'>\n",
      "RangeIndex: 3453 entries, 0 to 3452\n",
      "Data columns (total 2 columns):\n",
      " #   Column    Non-Null Count  Dtype \n",
      "---  ------    --------------  ----- \n",
      " 0   sentence  3453 non-null   object\n",
      " 1   label     3453 non-null   int64 \n",
      "dtypes: int64(1), object(1)\n",
      "memory usage: 54.1+ KB\n"
     ]
    }
   ],
   "source": [
    "headlines.info()"
   ]
  },
  {
   "cell_type": "code",
   "execution_count": 6,
   "metadata": {},
   "outputs": [
    {
     "data": {
      "image/png": "[encoded data removed]",
      "text/plain": [
       "<Figure size 800x600 with 1 Axes>"
      ]
     },
     "metadata": {},
     "output_type": "display_data"
    }
   ],
   "source": [
    "# Count the occurrences of each label\n",
    "label_counts = headlines['label'].value_counts()\n",
    "\n",
    "# Create a bar plot of the label distribution\n",
    "plt.figure(figsize=(8, 6))\n",
    "plt.bar(label_counts.index, label_counts.values)\n",
    "plt.xlabel('Label')\n",
    "plt.ylabel('Count')\n",
    "plt.title('Label Distribution')\n",
    "plt.show()"
   ]
  },
  {
   "attachments": {},
   "cell_type": "markdown",
   "metadata": {},
   "source": [
    "# Cleaning?"
   ]
  },
  {
   "cell_type": "markdown",
   "metadata": {},
   "source": [
    "Less is more when training a transformer model, such as RoBERTa, for text classification. The basic concept behind transformers is to learn optimal representations of language by understanding the contexts, nuances, and intricacies present in the text. This is achieved by representing text as a sequence of tokens and using an attention mechanism to learn the effect of each token on the others in the sequence. Training the model on unprocessed text preserves the semantic richness of the language, which would otherwise be parsed out through the removal of special characters and stop words, stemming, lemmatization, etc. While text cleaning is warranted for simpler models that benefit from uniformity, dimensionality reduction, and noise removal, (see Tf-IDF, count vectorization, etc.) opting out of text processing is advantageous here since the news headlines are short enough to meet the 512-token input limit"
   ]
  },
  {
   "attachments": {},
   "cell_type": "markdown",
   "metadata": {},
   "source": [
    "# Check: Do our Inputs Meet the 512 Token Limit?"
   ]
  },
  {
   "cell_type": "code",
   "execution_count": 7,
   "metadata": {},
   "outputs": [
    {
     "data": {
      "text/plain": [
       "Index([1222, 1654,  729, 2139, 2996,  319, 2708, 3280, 2196, 1903,  975, 2195,\n",
       "       2733, 1871, 1528, 1699, 3201,  959,  958,  850,   48, 1525, 2119, 1653,\n",
       "       1242,  677,  621,  722,  359, 1232, 1083,  330, 2056, 2130,   59,  905,\n",
       "       1077, 3222, 1828, 1876, 1385, 1387, 3202, 1633, 2762,  114, 1199, 3197,\n",
       "         60, 3436],\n",
       "      dtype='int64')"
      ]
     },
     "execution_count": 7,
     "metadata": {},
     "output_type": "execute_result"
    }
   ],
   "source": [
    "# What are the indices of the 10 longest notes?\n",
    "# These are the longest character lengths, not necessarily the longest token lengths\n",
    "ten_longest_inputs_idx = headlines['sentence'].apply(lambda x: len(x)).sort_values(ascending=False).index[:50]\n",
    "\n",
    "ten_longest_inputs_idx"
   ]
  },
  {
   "cell_type": "code",
   "execution_count": 8,
   "metadata": {},
   "outputs": [],
   "source": [
    "# Let's check how many tokens these are... Might not need all 512 tokens\n",
    "ten_longest_inputs = headlines['sentence'].iloc[ten_longest_inputs_idx].values\n"
   ]
  },
  {
   "cell_type": "code",
   "execution_count": 9,
   "metadata": {},
   "outputs": [
    {
     "name": "stdout",
     "output_type": "stream",
     "text": [
      "Loading tokenizer\n"
     ]
    }
   ],
   "source": [
    "print('Loading tokenizer')\n",
    "tokenizer = AutoTokenizer.from_pretrained(\"soleimanian/financial-roberta-large-sentiment\")"
   ]
  },
  {
   "cell_type": "code",
   "execution_count": 10,
   "metadata": {},
   "outputs": [
    {
     "name": "stdout",
     "output_type": "stream",
     "text": [
      "The longest sequence is 133 tokens\n"
     ]
    }
   ],
   "source": [
    "token_lengths = []\n",
    "max_tokens = 0\n",
    "for input in ten_longest_inputs:\n",
    "    encodings = tokenizer(input,\n",
    "                            add_special_tokens=True, # Add '[CLS]' and '[SEP]'\n",
    "                            max_length=512,\n",
    "                            truncation=True,\n",
    "                            padding='do_not_pad')\n",
    "    input_ids = encodings.input_ids\n",
    "    max_tokens = max(max_tokens, len(input_ids))\n",
    "\n",
    "print(f'The longest sequence is {max_tokens} tokens')"
   ]
  },
  {
   "attachments": {},
   "cell_type": "markdown",
   "metadata": {},
   "source": [
    "# Labels"
   ]
  },
  {
   "cell_type": "code",
   "execution_count": 11,
   "metadata": {},
   "outputs": [
    {
     "data": {
      "text/plain": [
       "{'Positive': 2, 'Neutral': 1, 'Negative': 0}"
      ]
     },
     "execution_count": 11,
     "metadata": {},
     "output_type": "execute_result"
    }
   ],
   "source": [
    "label2id = {'Positive': 2,\n",
    "            'Neutral': 1,\n",
    "            'Negative': 0\n",
    "            }\n",
    "id2label = {0: 'Negative',\n",
    "            1:'Neutral',\n",
    "            2: 'Positive'}\n",
    "    \n",
    "label2id"
   ]
  },
  {
   "cell_type": "code",
   "execution_count": 12,
   "metadata": {},
   "outputs": [
    {
     "data": {
      "text/plain": [
       "{0: 'Negative', 1: 'Neutral', 2: 'Positive'}"
      ]
     },
     "execution_count": 12,
     "metadata": {},
     "output_type": "execute_result"
    }
   ],
   "source": [
    "id2label"
   ]
  },
  {
   "cell_type": "code",
   "execution_count": 13,
   "metadata": {},
   "outputs": [
    {
     "data": {
      "text/html": [
       "<div>\n",
       "<style scoped>\n",
       "    .dataframe tbody tr th:only-of-type {\n",
       "        vertical-align: middle;\n",
       "    }\n",
       "\n",
       "    .dataframe tbody tr th {\n",
       "        vertical-align: top;\n",
       "    }\n",
       "\n",
       "    .dataframe thead th {\n",
       "        text-align: right;\n",
       "    }\n",
       "</style>\n",
       "<table border=\"1\" class=\"dataframe\">\n",
       "  <thead>\n",
       "    <tr style=\"text-align: right;\">\n",
       "      <th></th>\n",
       "      <th>sentence</th>\n",
       "      <th>label</th>\n",
       "    </tr>\n",
       "  </thead>\n",
       "  <tbody>\n",
       "    <tr>\n",
       "      <th>0</th>\n",
       "      <td>According to Gran , the company has no plans t...</td>\n",
       "      <td>1</td>\n",
       "    </tr>\n",
       "    <tr>\n",
       "      <th>1</th>\n",
       "      <td>With the new production plant the company woul...</td>\n",
       "      <td>2</td>\n",
       "    </tr>\n",
       "    <tr>\n",
       "      <th>2</th>\n",
       "      <td>For the last quarter of 2010 , Componenta 's n...</td>\n",
       "      <td>2</td>\n",
       "    </tr>\n",
       "    <tr>\n",
       "      <th>3</th>\n",
       "      <td>In the third quarter of 2010 , net sales incre...</td>\n",
       "      <td>2</td>\n",
       "    </tr>\n",
       "    <tr>\n",
       "      <th>4</th>\n",
       "      <td>Operating profit rose to EUR 13.1 mn from EUR ...</td>\n",
       "      <td>2</td>\n",
       "    </tr>\n",
       "  </tbody>\n",
       "</table>\n",
       "</div>"
      ],
      "text/plain": [
       "                                            sentence  label\n",
       "0  According to Gran , the company has no plans t...      1\n",
       "1  With the new production plant the company woul...      2\n",
       "2  For the last quarter of 2010 , Componenta 's n...      2\n",
       "3  In the third quarter of 2010 , net sales incre...      2\n",
       "4  Operating profit rose to EUR 13.1 mn from EUR ...      2"
      ]
     },
     "execution_count": 13,
     "metadata": {},
     "output_type": "execute_result"
    }
   ],
   "source": [
    "headlines.head()"
   ]
  },
  {
   "attachments": {},
   "cell_type": "markdown",
   "metadata": {},
   "source": [
    "# Make Train/Test Splits\n",
    "\n",
    "Use Stratified Shuffle Split to ensure equal class distribution among splits"
   ]
  },
  {
   "cell_type": "code",
   "execution_count": 14,
   "metadata": {},
   "outputs": [],
   "source": [
    "X = headlines[['sentence']].values\n",
    "y= headlines.label.values\n"
   ]
  },
  {
   "cell_type": "code",
   "execution_count": 15,
   "metadata": {},
   "outputs": [],
   "source": [
    "# Define the split sizes\n",
    "split_sizes = [0.8, 0.1, 0.1]"
   ]
  },
  {
   "cell_type": "code",
   "execution_count": 16,
   "metadata": {},
   "outputs": [],
   "source": [
    "# Define the splitter with 2 splits\n",
    "splitter = StratifiedShuffleSplit(n_splits=2, test_size=split_sizes[-1], random_state=42)"
   ]
  },
  {
   "cell_type": "code",
   "execution_count": 17,
   "metadata": {},
   "outputs": [],
   "source": [
    "# Split the data into a train-dev set and a test set\n",
    "train_dev_indices, test_indices = next(splitter.split(X, y))"
   ]
  },
  {
   "cell_type": "code",
   "execution_count": 18,
   "metadata": {},
   "outputs": [],
   "source": [
    "# Get the train-dev data and the test data\n",
    "X_train_dev, y_train_dev = X[train_dev_indices], y[train_dev_indices]\n",
    "X_test, y_test = X[test_indices], y[test_indices]"
   ]
  },
  {
   "cell_type": "code",
   "execution_count": 19,
   "metadata": {},
   "outputs": [],
   "source": [
    "# Define the sizes of the train and dev sets\n",
    "train_size = int(split_sizes[0] * len(X_train_dev))\n",
    "dev_size = int(split_sizes[1] * len(X))"
   ]
  },
  {
   "cell_type": "code",
   "execution_count": 20,
   "metadata": {},
   "outputs": [],
   "source": [
    "# Split the train-dev set into a train set and a dev set\n",
    "splitter = StratifiedShuffleSplit(n_splits=1, test_size=dev_size, random_state=42)\n",
    "train_indices, dev_indices = next(splitter.split(X_train_dev, y_train_dev))"
   ]
  },
  {
   "cell_type": "code",
   "execution_count": 21,
   "metadata": {},
   "outputs": [],
   "source": [
    "# Get the train data and the dev data\n",
    "X_train, y_train = X_train_dev[train_indices], y_train_dev[train_indices]\n",
    "X_dev, y_dev = X_train_dev[dev_indices], y_train_dev[dev_indices]"
   ]
  },
  {
   "cell_type": "code",
   "execution_count": 22,
   "metadata": {},
   "outputs": [
    {
     "data": {
      "text/plain": [
       "array([['Profit for the period was EUR 10.9 mn , down from EUR 14.3 mn in 2009 .'],\n",
       "       ['Neste Shipping is the most likely to remain Finnish as the oil sector and its transports are significant for emergency supply .'],\n",
       "       ['Finnish lifting equipment maker Konecranes Oyj said on July 30 , 2008 that its net profit rose to 71.2 mln euro ( $ 111.1 mln ) for the first half of 2008 from 57.1 mln euro ( $ 89.1 mln ) for the same period of 2007 .'],\n",
       "       ...,\n",
       "       ['Deliveries will start in the second half of 2007 and the start-up of the mill is scheduled for 2008 .'],\n",
       "       [\"Founded in 1923 , Finnair is one of the world 's oldest airlines and flies to 60 destinations with a fleet of 63 aircraft , employing 9,500 people .\"],\n",
       "       ['Country : ; Germany Sector : Construction-Real Estate ; Machinery-Engineering Target : Caverion GmbH Buyer : YIT Oyj Deal size in USD : 90.3 m Type : Corporate acquisition Status : Agreed']],\n",
       "      dtype=object)"
      ]
     },
     "execution_count": 22,
     "metadata": {},
     "output_type": "execute_result"
    }
   ],
   "source": [
    "X_train"
   ]
  },
  {
   "cell_type": "code",
   "execution_count": 23,
   "metadata": {},
   "outputs": [
    {
     "data": {
      "text/plain": [
       "(2762, 1)"
      ]
     },
     "execution_count": 23,
     "metadata": {},
     "output_type": "execute_result"
    }
   ],
   "source": [
    "X_train.shape"
   ]
  },
  {
   "cell_type": "code",
   "execution_count": 24,
   "metadata": {},
   "outputs": [
    {
     "data": {
      "text/plain": [
       "(345, 1)"
      ]
     },
     "execution_count": 24,
     "metadata": {},
     "output_type": "execute_result"
    }
   ],
   "source": [
    "X_dev.shape"
   ]
  },
  {
   "cell_type": "code",
   "execution_count": 25,
   "metadata": {},
   "outputs": [
    {
     "data": {
      "text/plain": [
       "(346, 1)"
      ]
     },
     "execution_count": 25,
     "metadata": {},
     "output_type": "execute_result"
    }
   ],
   "source": [
    "X_test.shape"
   ]
  },
  {
   "cell_type": "code",
   "execution_count": 26,
   "metadata": {},
   "outputs": [],
   "source": [
    "# Get the lists of sentences and their labels.\n",
    "train_sentences = [narr[0] for narr in X_train] \n",
    "train_labels = y_train\n",
    "dev_sentences = [narr[0] for narr in X_dev]\n",
    "dev_labels = y_dev\n",
    "test_sentences = [narr[0] for narr in X_test]\n",
    "test_labels = y_test"
   ]
  },
  {
   "cell_type": "markdown",
   "metadata": {},
   "source": [
    "# Tokenization"
   ]
  },
  {
   "cell_type": "markdown",
   "metadata": {},
   "source": [
    "Tokenization abstracts the news headlines into a structured form that RoBERTa can interpret. This involves breaking the text into smaller units, inserting [CLS] and [SEP] tokens to mark the beginning and end of sentences, padding shorter inputs with [PAD] tokens to a uniform length (133 length as discovered earlier), and truncating longer ones. Attention masks are also created to distinguish between actual inputs and padding. The breakdown and structuring of text in this manner enable the model to effectively understand unseen words, allocate attention appropriately, and capture the contextual relationships within the text, allowing it to make more accurate predictions."
   ]
  },
  {
   "cell_type": "code",
   "execution_count": 27,
   "metadata": {},
   "outputs": [],
   "source": [
    "def get_encodings(sentences):\n",
    "\n",
    "    sentence_dataset = Dataset.from_dict({'sentences':sentences } )\n",
    "    encodings = sentence_dataset.map(lambda x: tokenizer(\n",
    "                                                                x['sentences'], \n",
    "                                                                add_special_tokens=True, # Add '[CLS]' and '[SEP]'\n",
    "                                                                max_length=max_tokens, # Replace this part with max_tokens for BigBird\n",
    "                                                                truncation=True,\n",
    "                                                                padding='max_length',\n",
    "                                                                ),\n",
    "                                            batched=True,\n",
    "                                            )\n",
    "\n",
    "    return encodings "
   ]
  },
  {
   "cell_type": "code",
   "execution_count": 28,
   "metadata": {},
   "outputs": [
    {
     "data": {
      "application/vnd.jupyter.widget-view+json": {
       "model_id": "aa21480cd7bf432b891257f94a1d36d8",
       "version_major": 2,
       "version_minor": 0
      },
      "text/plain": [
       "Map:   0%|          | 0/2762 [00:00<?, ? examples/s]"
      ]
     },
     "metadata": {},
     "output_type": "display_data"
    }
   ],
   "source": [
    "train_encodings = get_encodings(train_sentences)"
   ]
  },
  {
   "cell_type": "code",
   "execution_count": 29,
   "metadata": {},
   "outputs": [],
   "source": [
    "train_inputs = train_encodings[:]['input_ids']\n",
    "train_attention = train_encodings[:]['attention_mask']"
   ]
  },
  {
   "cell_type": "code",
   "execution_count": 30,
   "metadata": {},
   "outputs": [
    {
     "data": {
      "application/vnd.jupyter.widget-view+json": {
       "model_id": "92f0ea467ce947ef836cb8a2c4451b7f",
       "version_major": 2,
       "version_minor": 0
      },
      "text/plain": [
       "Map:   0%|          | 0/345 [00:00<?, ? examples/s]"
      ]
     },
     "metadata": {},
     "output_type": "display_data"
    }
   ],
   "source": [
    "dev_encodings = get_encodings(dev_sentences)"
   ]
  },
  {
   "cell_type": "code",
   "execution_count": 31,
   "metadata": {},
   "outputs": [],
   "source": [
    "dev_inputs = dev_encodings[:]['input_ids']\n",
    "dev_attention = dev_encodings[:]['attention_mask']"
   ]
  },
  {
   "cell_type": "code",
   "execution_count": 32,
   "metadata": {},
   "outputs": [
    {
     "data": {
      "application/vnd.jupyter.widget-view+json": {
       "model_id": "13d914c111594997b77a8c64331190c8",
       "version_major": 2,
       "version_minor": 0
      },
      "text/plain": [
       "Map:   0%|          | 0/346 [00:00<?, ? examples/s]"
      ]
     },
     "metadata": {},
     "output_type": "display_data"
    }
   ],
   "source": [
    "test_encodings = get_encodings(test_sentences)"
   ]
  },
  {
   "cell_type": "code",
   "execution_count": 33,
   "metadata": {},
   "outputs": [],
   "source": [
    "test_inputs = test_encodings[:]['input_ids']\n",
    "test_attention = test_encodings[:]['attention_mask']"
   ]
  },
  {
   "cell_type": "code",
   "execution_count": 34,
   "metadata": {},
   "outputs": [],
   "source": [
    "# Convert all inputs and labels into torch tensors, the required datatype \n",
    "# for our model\n",
    "#Inputs\n",
    "train_inputs = torch.tensor(train_inputs, dtype=torch.int32)\n",
    "dev_inputs = torch.tensor(dev_inputs, dtype=torch.int32)\n",
    "test_inputs = torch.tensor(test_inputs, dtype=torch.int32)\n"
   ]
  },
  {
   "cell_type": "code",
   "execution_count": 35,
   "metadata": {},
   "outputs": [],
   "source": [
    "#Labels\n",
    "train_labels = torch.tensor(train_labels, dtype=torch.long)\n",
    "dev_labels = torch.tensor(dev_labels, dtype=torch.long)\n",
    "test_labels = torch.tensor(test_labels, dtype=torch.long)"
   ]
  },
  {
   "cell_type": "code",
   "execution_count": 36,
   "metadata": {},
   "outputs": [],
   "source": [
    "#Masks\n",
    "train_masks = torch.tensor(train_attention, dtype=torch.int32)\n",
    "dev_masks = torch.tensor(dev_attention, dtype=torch.int32)\n",
    "test_masks = torch.tensor(test_attention, dtype=torch.int32)"
   ]
  },
  {
   "cell_type": "code",
   "execution_count": 37,
   "metadata": {},
   "outputs": [],
   "source": [
    "# Load the input ids, masks, etc. into separate datasets\n",
    "\n",
    "train_dataset = Dataset.from_dict({'input_ids':train_inputs,\n",
    "                                    'attention_mask': train_masks,\n",
    "                                    'labels': train_labels})"
   ]
  },
  {
   "cell_type": "code",
   "execution_count": 38,
   "metadata": {},
   "outputs": [],
   "source": [
    "dev_dataset =  Dataset.from_dict({'input_ids': dev_inputs,\n",
    "                                 'attention_mask': dev_masks,\n",
    "                                 'labels':dev_labels})"
   ]
  },
  {
   "cell_type": "code",
   "execution_count": 39,
   "metadata": {},
   "outputs": [],
   "source": [
    "test_dataset =  Dataset.from_dict({'input_ids':test_inputs,\n",
    "                                    'attention_mask':test_masks,\n",
    "                                    'labels':test_labels})"
   ]
  },
  {
   "cell_type": "markdown",
   "metadata": {},
   "source": [
    "# RoBERTa (Robustly Optimized BERT Approach)"
   ]
  },
  {
   "cell_type": "markdown",
   "metadata": {},
   "source": [
    "RoBERTa was chosen for this project to harness its advanced contextual understanding and exceptional performance in text classification tasks. RoBERTa is a high-performing transformer model developed by Facebook AI, excelling in numerous NLP tasks by leveraging attention mechanisms to understand the intricacies of language. Attention mechanisms enable the model to process and interpret the contextual relations and nuances between different parts of the input text. RoBERTa surpasses its predecessor, BERT, by using refined training techniques, larger datasets, and architectural improvements, which include the elimination of BERT's Next Sentence Prediction objective and dynamic adjustment of input token masking. This optimized training and enhanced contextual understanding make RoBERTa an excellent choice for this text classsification task. "
   ]
  },
  {
   "cell_type": "markdown",
   "metadata": {},
   "source": [
    "## Leveraging a Pre-Trained Model for Transfer Learning?"
   ]
  },
  {
   "cell_type": "markdown",
   "metadata": {},
   "source": [
    "Financial RoBERTa provides an opportunity for transfer learning, as it already acquired acquired an understanding of financial texts through fine-tuning on extensive financial documents like 10Ks and earnings call transcripts (important to note not the dataset used for this task). Using this specialized, pre-trained model facilitates more powerful predictions by effectively increasing the knowledge base of the text documents the model has to learn a language representation from."
   ]
  },
  {
   "cell_type": "code",
   "execution_count": 40,
   "metadata": {},
   "outputs": [],
   "source": [
    "bnb_config = BitsAndBytesConfig(\n",
    "    load_in_8bit=True,\n",
    "    bnb_4bit_compute_dtype=torch.float16,\n",
    "    bnb_4bit_quant_type='nf4',\n",
    "    bnb_4bit_use_double_quant=True\n",
    ")"
   ]
  },
  {
   "cell_type": "code",
   "execution_count": 41,
   "metadata": {},
   "outputs": [],
   "source": [
    "model = AutoModelForSequenceClassification.from_pretrained(\n",
    "    \"soleimanian/financial-roberta-large-sentiment\", \n",
    "    num_labels = len(label2id),\n",
    "    # attention_probs_dropout_prob=0.1,\n",
    "    id2label=id2label,\n",
    "    label2id=label2id,\n",
    "    device_map='auto'\n",
    "    )\n"
   ]
  },
  {
   "cell_type": "code",
   "execution_count": 42,
   "metadata": {},
   "outputs": [
    {
     "name": "stdout",
     "output_type": "stream",
     "text": [
      "1421459500\n"
     ]
    }
   ],
   "source": [
    "print(model.get_memory_footprint())"
   ]
  },
  {
   "cell_type": "code",
   "execution_count": 43,
   "metadata": {},
   "outputs": [
    {
     "data": {
      "text/plain": [
       "RobertaForSequenceClassification(\n",
       "  (roberta): RobertaModel(\n",
       "    (embeddings): RobertaEmbeddings(\n",
       "      (word_embeddings): Embedding(50265, 1024, padding_idx=1)\n",
       "      (position_embeddings): Embedding(514, 1024, padding_idx=1)\n",
       "      (token_type_embeddings): Embedding(1, 1024)\n",
       "      (LayerNorm): LayerNorm((1024,), eps=1e-05, elementwise_affine=True)\n",
       "      (dropout): Dropout(p=0.1, inplace=False)\n",
       "    )\n",
       "    (encoder): RobertaEncoder(\n",
       "      (layer): ModuleList(\n",
       "        (0-23): 24 x RobertaLayer(\n",
       "          (attention): RobertaAttention(\n",
       "            (self): RobertaSelfAttention(\n",
       "              (query): Linear(in_features=1024, out_features=1024, bias=True)\n",
       "              (key): Linear(in_features=1024, out_features=1024, bias=True)\n",
       "              (value): Linear(in_features=1024, out_features=1024, bias=True)\n",
       "              (dropout): Dropout(p=0.1, inplace=False)\n",
       "            )\n",
       "            (output): RobertaSelfOutput(\n",
       "              (dense): Linear(in_features=1024, out_features=1024, bias=True)\n",
       "              (LayerNorm): LayerNorm((1024,), eps=1e-05, elementwise_affine=True)\n",
       "              (dropout): Dropout(p=0.1, inplace=False)\n",
       "            )\n",
       "          )\n",
       "          (intermediate): RobertaIntermediate(\n",
       "            (dense): Linear(in_features=1024, out_features=4096, bias=True)\n",
       "            (intermediate_act_fn): GELUActivation()\n",
       "          )\n",
       "          (output): RobertaOutput(\n",
       "            (dense): Linear(in_features=4096, out_features=1024, bias=True)\n",
       "            (LayerNorm): LayerNorm((1024,), eps=1e-05, elementwise_affine=True)\n",
       "            (dropout): Dropout(p=0.1, inplace=False)\n",
       "          )\n",
       "        )\n",
       "      )\n",
       "    )\n",
       "  )\n",
       "  (classifier): RobertaClassificationHead(\n",
       "    (dense): Linear(in_features=1024, out_features=1024, bias=True)\n",
       "    (dropout): Dropout(p=0.1, inplace=False)\n",
       "    (out_proj): Linear(in_features=1024, out_features=3, bias=True)\n",
       "  )\n",
       ")"
      ]
     },
     "execution_count": 43,
     "metadata": {},
     "output_type": "execute_result"
    }
   ],
   "source": [
    "model"
   ]
  },
  {
   "cell_type": "markdown",
   "metadata": {},
   "source": [
    "# Evaluation Metrics: Accuracy, Macro/Weighted F1, Precision, Recall"
   ]
  },
  {
   "cell_type": "code",
   "execution_count": 44,
   "metadata": {},
   "outputs": [],
   "source": [
    "# Function to calculate the accuracy and other metrics of our predictions vs labels\n",
    "def compute_metrics_multiclass(eval_pred):\n",
    "    # Labels give the ground truth for each *sentence* (num_classes, 1)\n",
    "    # Preds give the unnormalized probabilities for each class in a sentence (num_sentences, num_classes)\n",
    "    preds, labels = eval_pred\n",
    "    preds_flat = np.argmax(preds, axis=1).flatten() # Get the index of the most probable classes (Already mapped index=class) and flatten to give one pred/sentence\n",
    "    labels_flat = labels.flatten()\n",
    "    print(\"Predicted Sample: \")\n",
    "    print(preds_flat[:10])\n",
    "    print(\"Actual Sample: \")\n",
    "    print(labels_flat[:10])\n",
    "    # Convert logits to float32 before applying softmax (flexibility for fp16 training)\n",
    "    preds_float32 = torch.tensor(preds, dtype=torch.float32)\n",
    "\n",
    "    # Convert logits to probabilities \n",
    "    preds_prob = torch.nn.functional.softmax(torch.tensor(preds_float32), dim=-1)\n",
    "\n",
    "    # Calculate the accuracy of the top 1 predictions\n",
    "    acc = accuracy_score(labels_flat, preds_flat)\n",
    "\n",
    "    # Calculate precision, recall, and F1 score\n",
    "    precision_weighted, recall_weighted, f1_weighted, _ = precision_recall_fscore_support(labels_flat, preds_flat, average='weighted')\n",
    "    precision_macro, recall_macro, f1_macro, _ = precision_recall_fscore_support(labels_flat, preds_flat, average='macro')\n",
    "\n",
    "    return {\n",
    "        'accuracy': acc,\n",
    "        'precision_weighted': precision_weighted,\n",
    "        'precision_macro': precision_macro,\n",
    "        'recall_weighted': recall_weighted,\n",
    "        'recall_macro': recall_macro,\n",
    "        'f1_weighted': f1_weighted,\n",
    "        'f1_macro': f1_macro\n",
    "    }\n"
   ]
  },
  {
   "cell_type": "markdown",
   "metadata": {},
   "source": [
    "# Training Arguments"
   ]
  },
  {
   "cell_type": "markdown",
   "metadata": {},
   "source": [
    "In response to past experiences with extensive memory usage and slow computational speed during model training, adjustments were made to optimize resource efficiency. Mixed precision training (fp16) was employed, reducing memory requirements and accelerating computations. Concurrently, the 8BitAdam optimizer was used to compress model weights from 32 bits to 8 bits, conserving memory while preserving performance. Additionally, early stopping was implemented to prevent unnecessary computations and overfitting, contributing to a more efficient and dependable training process, essential for managing large datasets and advanced deep learning models."
   ]
  },
  {
   "cell_type": "code",
   "execution_count": 45,
   "metadata": {},
   "outputs": [
    {
     "name": "stderr",
     "output_type": "stream",
     "text": [
      "c:\\Users\\Aum Thaker\\Desktop\\VSC\\jupyter\\myvenv\\Lib\\site-packages\\transformers\\training_args.py:1494: FutureWarning: `evaluation_strategy` is deprecated and will be removed in version 4.46 of 🤗 Transformers. Use `eval_strategy` instead\n",
      "  warnings.warn(\n"
     ]
    }
   ],
   "source": [
    "# Set threads==num cores on the machine\n",
    "torch.set_num_threads(mp.cpu_count())\n",
    "\n",
    "training_args = TrainingArguments(\n",
    "    output_dir=\"Sentiment_Analysis_1stPass\",\n",
    "    evaluation_strategy=\"epoch\",\n",
    "    save_strategy=\"epoch\",\n",
    "    do_eval=True,\n",
    "    eval_strategy='epochs',\n",
    "    do_predict=True,\n",
    "    per_device_train_batch_size=64,\n",
    "    per_device_eval_batch_size=32,\n",
    "    num_train_epochs=15,        # Leave extra epochs in case learning brakes out of unoptimal convergence\n",
    "    gradient_accumulation_steps=4,\n",
    "    gradient_checkpointing=True,\n",
    "    learning_rate=2e-6,\n",
    "    warmup_ratio = 0.4,  \n",
    "    fp16=True,  # gradients are computed in half precision & converted back to 32bit for the optimization step\n",
    "    fp16_opt_level='O2',\n",
    "    disable_tqdm=False,\n",
    "    dataloader_pin_memory=True,\n",
    "    logging_dir='./logs',\n",
    "    save_total_limit=1,\n",
    "    # metric_for_best_model=\"f1_macro\",\n",
    "    greater_is_better=False,  # Want smaller loss\n",
    "    # load_best_model_at_end=True,\n",
    "    resume_from_checkpoint=False,\n",
    "    remove_unused_columns=False\n",
    ")\n"
   ]
  },
  {
   "cell_type": "code",
   "execution_count": 46,
   "metadata": {},
   "outputs": [],
   "source": [
    "from peft import prepare_model_for_kbit_training\n",
    "model.gradient_checkpointing_enable()\n",
    "model = prepare_model_for_kbit_training(model)"
   ]
  },
  {
   "cell_type": "code",
   "execution_count": 47,
   "metadata": {},
   "outputs": [],
   "source": [
    "config = LoraConfig(\n",
    "    r=32,\n",
    "    lora_alpha=64,\n",
    "    target_modules=[\n",
    "        'query',\n",
    "        'key',\n",
    "        'value'\n",
    "    ],\n",
    "    bias=\"none\",\n",
    "    lora_dropout=0.05,  # Conventional\n",
    "    task_type=\"SEQ_CLS\",\n",
    ")"
   ]
  },
  {
   "cell_type": "code",
   "execution_count": 48,
   "metadata": {},
   "outputs": [],
   "source": [
    "model = get_peft_model(model, config)"
   ]
  },
  {
   "cell_type": "code",
   "execution_count": 49,
   "metadata": {},
   "outputs": [],
   "source": [
    "def print_trainable_parameters(model):\n",
    "    \"\"\"\n",
    "    Prints the number of trainable parameters in the model.\n",
    "    \"\"\"\n",
    "    trainable_params = 0\n",
    "    all_param = 0\n",
    "    for _, param in model.named_parameters():\n",
    "        all_param += param.numel()\n",
    "        if param.requires_grad:\n",
    "            trainable_params += param.numel()\n",
    "    print(\n",
    "        f\"trainable params: {trainable_params} || all params: {all_param} || trainable%: {100 * trainable_params / all_param}\"\n",
    "    )"
   ]
  },
  {
   "cell_type": "code",
   "execution_count": 50,
   "metadata": {},
   "outputs": [
    {
     "name": "stdout",
     "output_type": "stream",
     "text": [
      "trainable params: 5771267 || all params: 361134086 || trainable%: 1.5980953401335813\n"
     ]
    }
   ],
   "source": [
    "print_trainable_parameters(model)"
   ]
  },
  {
   "cell_type": "code",
   "execution_count": 51,
   "metadata": {},
   "outputs": [
    {
     "name": "stderr",
     "output_type": "stream",
     "text": [
      "c:\\Users\\Aum Thaker\\Desktop\\VSC\\jupyter\\myvenv\\Lib\\site-packages\\accelerate\\accelerator.py:482: FutureWarning: `torch.cuda.amp.GradScaler(args...)` is deprecated. Please use `torch.amp.GradScaler('cuda', args...)` instead.\n",
      "  self.scaler = torch.cuda.amp.GradScaler(**kwargs)\n"
     ]
    }
   ],
   "source": [
    "fsdp_plugin = FullyShardedDataParallelPlugin(\n",
    "    state_dict_config=FullStateDictConfig(offload_to_cpu=True, rank0_only=False),\n",
    "    optim_state_dict_config=FullOptimStateDictConfig(offload_to_cpu=True, rank0_only=False),\n",
    ")\n",
    "\n",
    "accelerator = Accelerator(fsdp_plugin=fsdp_plugin,)\n",
    "\n",
    "#Note: Not sure if this is gonna work but wont have any adverse effect"
   ]
  },
  {
   "cell_type": "code",
   "execution_count": 52,
   "metadata": {},
   "outputs": [],
   "source": [
    "model = accelerator.prepare_model(model)"
   ]
  },
  {
   "cell_type": "code",
   "execution_count": 53,
   "metadata": {},
   "outputs": [
    {
     "name": "stdout",
     "output_type": "stream",
     "text": [
      "trainable params: 5771267 || all params: 361134086 || trainable%: 1.5980953401335813\n"
     ]
    }
   ],
   "source": [
    "print_trainable_parameters(model)"
   ]
  },
  {
   "cell_type": "code",
   "execution_count": 54,
   "metadata": {},
   "outputs": [],
   "source": [
    "# for param in model.parameters():\n",
    "#     param.requires_grad = False "
   ]
  },
  {
   "cell_type": "code",
   "execution_count": 55,
   "metadata": {},
   "outputs": [],
   "source": [
    "# for name, param in model.named_parameters():\n",
    "#     if \"lora\" in name:\n",
    "#         param.requires_grad = True"
   ]
  },
  {
   "cell_type": "code",
   "execution_count": 56,
   "metadata": {},
   "outputs": [],
   "source": [
    "# for param in model.parameters():\n",
    "\n",
    "#     if not param.requires_grad:\n",
    "#         print(f\"Parameter {param} is frozen (requires_grad=False)\")\n",
    "        \n",
    "#     param.requires_grad = True  # Ensure all parameters require gradients"
   ]
  },
  {
   "cell_type": "code",
   "execution_count": 57,
   "metadata": {},
   "outputs": [],
   "source": [
    "trainer = Trainer(\n",
    "    model,\n",
    "    training_args,\n",
    "    # optimizers=(adam_bnb_optim, None), #Uncomment accordinggly if you want 8 bit adam\n",
    "    train_dataset=train_dataset,\n",
    "    eval_dataset=dev_dataset,\n",
    "    compute_metrics=compute_metrics_multiclass,\n",
    "    # callbacks=[EarlyStoppingCallback(early_stopping_patience=5, early_stopping_threshold=0.01)],\n",
    "    tokenizer=tokenizer)"
   ]
  },
  {
   "cell_type": "code",
   "execution_count": 58,
   "metadata": {},
   "outputs": [],
   "source": [
    "\n",
    "gc.collect()\n",
    "torch.cuda.empty_cache()"
   ]
  },
  {
   "cell_type": "code",
   "execution_count": 59,
   "metadata": {},
   "outputs": [
    {
     "name": "stdout",
     "output_type": "stream",
     "text": [
      "|===========================================================================|\n",
      "|                  PyTorch CUDA memory summary, device ID 0                 |\n",
      "|---------------------------------------------------------------------------|\n",
      "|            CUDA OOMs: 0            |        cudaMalloc retries: 0         |\n",
      "|===========================================================================|\n",
      "|        Metric         | Cur Usage  | Peak Usage | Tot Alloc  | Tot Freed  |\n",
      "|---------------------------------------------------------------------------|\n",
      "| Allocated memory      |   1377 MiB |   1377 MiB |   1377 MiB |    512 B   |\n",
      "|       from large pool |   1358 MiB |   1358 MiB |   1358 MiB |      0 B   |\n",
      "|       from small pool |     19 MiB |     19 MiB |     19 MiB |    512 B   |\n",
      "|---------------------------------------------------------------------------|\n",
      "| Active memory         |   1377 MiB |   1377 MiB |   1377 MiB |    512 B   |\n",
      "|       from large pool |   1358 MiB |   1358 MiB |   1358 MiB |      0 B   |\n",
      "|       from small pool |     19 MiB |     19 MiB |     19 MiB |    512 B   |\n",
      "|---------------------------------------------------------------------------|\n",
      "| Requested memory      |   1377 MiB |   1377 MiB |   1377 MiB |      8 B   |\n",
      "|       from large pool |   1358 MiB |   1358 MiB |   1358 MiB |      0 B   |\n",
      "|       from small pool |     19 MiB |     19 MiB |     19 MiB |      8 B   |\n",
      "|---------------------------------------------------------------------------|\n",
      "| GPU reserved memory   |   1386 MiB |   1386 MiB |   1388 MiB |   2048 KiB |\n",
      "|       from large pool |   1366 MiB |   1366 MiB |   1366 MiB |      0 KiB |\n",
      "|       from small pool |     20 MiB |     20 MiB |     22 MiB |   2048 KiB |\n",
      "|---------------------------------------------------------------------------|\n",
      "| Non-releasable memory |   8574 KiB |  22160 KiB | 418319 KiB | 409745 KiB |\n",
      "|       from large pool |   7828 KiB |  20116 KiB | 396948 KiB | 389120 KiB |\n",
      "|       from small pool |    746 KiB |   2047 KiB |  21371 KiB |  20625 KiB |\n",
      "|---------------------------------------------------------------------------|\n",
      "| Allocations           |     543    |     543    |     544    |       1    |\n",
      "|       from large pool |     148    |     148    |     148    |       0    |\n",
      "|       from small pool |     395    |     395    |     396    |       1    |\n",
      "|---------------------------------------------------------------------------|\n",
      "| Active allocs         |     543    |     543    |     544    |       1    |\n",
      "|       from large pool |     148    |     148    |     148    |       0    |\n",
      "|       from small pool |     395    |     395    |     396    |       1    |\n",
      "|---------------------------------------------------------------------------|\n",
      "| GPU reserved segments |      78    |      78    |      79    |       1    |\n",
      "|       from large pool |      68    |      68    |      68    |       0    |\n",
      "|       from small pool |      10    |      10    |      11    |       1    |\n",
      "|---------------------------------------------------------------------------|\n",
      "| Non-releasable allocs |       5    |       5    |      36    |      31    |\n",
      "|       from large pool |       3    |       3    |      25    |      22    |\n",
      "|       from small pool |       2    |       2    |      11    |       9    |\n",
      "|---------------------------------------------------------------------------|\n",
      "| Oversize allocations  |       0    |       0    |       0    |       0    |\n",
      "|---------------------------------------------------------------------------|\n",
      "| Oversize GPU segments |       0    |       0    |       0    |       0    |\n",
      "|===========================================================================|\n",
      "\n"
     ]
    }
   ],
   "source": [
    "print(torch.cuda.memory_summary())"
   ]
  },
  {
   "cell_type": "code",
   "execution_count": 60,
   "metadata": {},
   "outputs": [
    {
     "name": "stderr",
     "output_type": "stream",
     "text": [
      "\u001b[34m\u001b[1mwandb\u001b[0m: \u001b[33mWARNING\u001b[0m The `run_name` is currently set to the same value as `TrainingArguments.output_dir`. If this was not intended, please specify a different run name by setting the `TrainingArguments.run_name` parameter.\n",
      "Failed to detect the name of this notebook, you can set it manually with the WANDB_NOTEBOOK_NAME environment variable to enable code saving.\n",
      "wandb: Currently logged in as: 225100006 (225100006-indian-institute-of-technology-dharwad). Use `wandb login --relogin` to force relogin\n"
     ]
    },
    {
     "data": {
      "text/html": [
       "wandb version 0.18.1 is available!  To upgrade, please run:\n",
       " $ pip install wandb --upgrade"
      ],
      "text/plain": [
       "<IPython.core.display.HTML object>"
      ]
     },
     "metadata": {},
     "output_type": "display_data"
    },
    {
     "data": {
      "text/html": [
       "Tracking run with wandb version 0.17.6"
      ],
      "text/plain": [
       "<IPython.core.display.HTML object>"
      ]
     },
     "metadata": {},
     "output_type": "display_data"
    },
    {
     "data": {
      "text/html": [
       "Run data is saved locally in <code>c:\\Users\\Aum Thaker\\Downloads\\wandb\\run-20240919_234511-2tsmd5ju</code>"
      ],
      "text/plain": [
       "<IPython.core.display.HTML object>"
      ]
     },
     "metadata": {},
     "output_type": "display_data"
    },
    {
     "data": {
      "text/html": [
       "Syncing run <strong><a href='https://wandb.ai/225100006-indian-institute-of-technology-dharwad/huggingface/runs/2tsmd5ju' target=\"_blank\">Sentiment_Analysis_1stPass</a></strong> to <a href='https://wandb.ai/225100006-indian-institute-of-technology-dharwad/huggingface' target=\"_blank\">Weights & Biases</a> (<a href='https://wandb.me/run' target=\"_blank\">docs</a>)<br/>"
      ],
      "text/plain": [
       "<IPython.core.display.HTML object>"
      ]
     },
     "metadata": {},
     "output_type": "display_data"
    },
    {
     "data": {
      "text/html": [
       " View project at <a href='https://wandb.ai/225100006-indian-institute-of-technology-dharwad/huggingface' target=\"_blank\">https://wandb.ai/225100006-indian-institute-of-technology-dharwad/huggingface</a>"
      ],
      "text/plain": [
       "<IPython.core.display.HTML object>"
      ]
     },
     "metadata": {},
     "output_type": "display_data"
    },
    {
     "data": {
      "text/html": [
       " View run at <a href='https://wandb.ai/225100006-indian-institute-of-technology-dharwad/huggingface/runs/2tsmd5ju' target=\"_blank\">https://wandb.ai/225100006-indian-institute-of-technology-dharwad/huggingface/runs/2tsmd5ju</a>"
      ],
      "text/plain": [
       "<IPython.core.display.HTML object>"
      ]
     },
     "metadata": {},
     "output_type": "display_data"
    },
    {
     "data": {
      "application/vnd.jupyter.widget-view+json": {
       "model_id": "cd476f37254a4fde9fd7dcc2f4827653",
       "version_major": 2,
       "version_minor": 0
      },
      "text/plain": [
       "  0%|          | 0/165 [00:00<?, ?it/s]"
      ]
     },
     "metadata": {},
     "output_type": "display_data"
    },
    {
     "name": "stderr",
     "output_type": "stream",
     "text": [
      "c:\\Users\\Aum Thaker\\Desktop\\VSC\\jupyter\\myvenv\\Lib\\site-packages\\torch\\_dynamo\\eval_frame.py:600: UserWarning: torch.utils.checkpoint: the use_reentrant parameter should be passed explicitly. In version 2.4 we will raise an exception if use_reentrant is not passed. use_reentrant=False is recommended, but if you need to preserve the current default behavior, you can pass use_reentrant=True. Refer to docs for more details on the differences between the two variants.\n",
      "  return fn(*args, **kwargs)\n",
      "c:\\Users\\Aum Thaker\\Desktop\\VSC\\jupyter\\myvenv\\Lib\\site-packages\\torch\\utils\\checkpoint.py:295: FutureWarning: `torch.cpu.amp.autocast(args...)` is deprecated. Please use `torch.amp.autocast('cpu', args...)` instead.\n",
      "  with torch.enable_grad(), device_autocast_ctx, torch.cpu.amp.autocast(**ctx.cpu_autocast_kwargs):  # type: ignore[attr-defined]\n"
     ]
    },
    {
     "data": {
      "application/vnd.jupyter.widget-view+json": {
       "model_id": "a0e53ab78e5d4bee89f3d8322d24b223",
       "version_major": 2,
       "version_minor": 0
      },
      "text/plain": [
       "  0%|          | 0/11 [00:00<?, ?it/s]"
      ]
     },
     "metadata": {},
     "output_type": "display_data"
    },
    {
     "name": "stdout",
     "output_type": "stream",
     "text": [
      "Predicted Sample: \n",
      "[2 2 2 2 2 0 2 1 0 1]\n",
      "Actual Sample: \n",
      "[2 2 1 2 2 0 1 1 0 2]\n"
     ]
    },
    {
     "name": "stderr",
     "output_type": "stream",
     "text": [
      "C:\\Users\\Aum Thaker\\AppData\\Local\\Temp\\ipykernel_3088\\76004914.py:16: UserWarning: To copy construct from a tensor, it is recommended to use sourceTensor.clone().detach() or sourceTensor.clone().detach().requires_grad_(True), rather than torch.tensor(sourceTensor).\n",
      "  preds_prob = torch.nn.functional.softmax(torch.tensor(preds_float32), dim=-1)\n"
     ]
    },
    {
     "name": "stdout",
     "output_type": "stream",
     "text": [
      "{'eval_loss': 0.6778643727302551, 'eval_accuracy': 0.8521739130434782, 'eval_precision_weighted': 0.8856732911176686, 'eval_precision_macro': 0.818207511355893, 'eval_recall_weighted': 0.8521739130434782, 'eval_recall_macro': 0.9098065002191853, 'eval_f1_weighted': 0.854412409791293, 'eval_f1_macro': 0.848550649166732, 'eval_runtime': 3.7784, 'eval_samples_per_second': 91.309, 'eval_steps_per_second': 2.911, 'epoch': 1.0}\n"
     ]
    },
    {
     "name": "stderr",
     "output_type": "stream",
     "text": [
      "c:\\Users\\Aum Thaker\\Desktop\\VSC\\jupyter\\myvenv\\Lib\\site-packages\\torch\\_dynamo\\eval_frame.py:600: UserWarning: torch.utils.checkpoint: the use_reentrant parameter should be passed explicitly. In version 2.4 we will raise an exception if use_reentrant is not passed. use_reentrant=False is recommended, but if you need to preserve the current default behavior, you can pass use_reentrant=True. Refer to docs for more details on the differences between the two variants.\n",
      "  return fn(*args, **kwargs)\n",
      "c:\\Users\\Aum Thaker\\Desktop\\VSC\\jupyter\\myvenv\\Lib\\site-packages\\torch\\utils\\checkpoint.py:295: FutureWarning: `torch.cpu.amp.autocast(args...)` is deprecated. Please use `torch.amp.autocast('cpu', args...)` instead.\n",
      "  with torch.enable_grad(), device_autocast_ctx, torch.cpu.amp.autocast(**ctx.cpu_autocast_kwargs):  # type: ignore[attr-defined]\n"
     ]
    },
    {
     "data": {
      "application/vnd.jupyter.widget-view+json": {
       "model_id": "1327a476cea243009ccb89094753e1ab",
       "version_major": 2,
       "version_minor": 0
      },
      "text/plain": [
       "  0%|          | 0/11 [00:00<?, ?it/s]"
      ]
     },
     "metadata": {},
     "output_type": "display_data"
    },
    {
     "name": "stdout",
     "output_type": "stream",
     "text": [
      "Predicted Sample: \n",
      "[2 2 2 2 2 0 2 1 0 1]\n",
      "Actual Sample: \n",
      "[2 2 1 2 2 0 1 1 0 2]\n"
     ]
    },
    {
     "name": "stderr",
     "output_type": "stream",
     "text": [
      "C:\\Users\\Aum Thaker\\AppData\\Local\\Temp\\ipykernel_3088\\76004914.py:16: UserWarning: To copy construct from a tensor, it is recommended to use sourceTensor.clone().detach() or sourceTensor.clone().detach().requires_grad_(True), rather than torch.tensor(sourceTensor).\n",
      "  preds_prob = torch.nn.functional.softmax(torch.tensor(preds_float32), dim=-1)\n"
     ]
    },
    {
     "name": "stdout",
     "output_type": "stream",
     "text": [
      "{'eval_loss': 0.6645127534866333, 'eval_accuracy': 0.8521739130434782, 'eval_precision_weighted': 0.8856732911176686, 'eval_precision_macro': 0.818207511355893, 'eval_recall_weighted': 0.8521739130434782, 'eval_recall_macro': 0.9098065002191853, 'eval_f1_weighted': 0.854412409791293, 'eval_f1_macro': 0.848550649166732, 'eval_runtime': 3.7565, 'eval_samples_per_second': 91.842, 'eval_steps_per_second': 2.928, 'epoch': 2.0}\n"
     ]
    },
    {
     "name": "stderr",
     "output_type": "stream",
     "text": [
      "c:\\Users\\Aum Thaker\\Desktop\\VSC\\jupyter\\myvenv\\Lib\\site-packages\\torch\\_dynamo\\eval_frame.py:600: UserWarning: torch.utils.checkpoint: the use_reentrant parameter should be passed explicitly. In version 2.4 we will raise an exception if use_reentrant is not passed. use_reentrant=False is recommended, but if you need to preserve the current default behavior, you can pass use_reentrant=True. Refer to docs for more details on the differences between the two variants.\n",
      "  return fn(*args, **kwargs)\n",
      "c:\\Users\\Aum Thaker\\Desktop\\VSC\\jupyter\\myvenv\\Lib\\site-packages\\torch\\utils\\checkpoint.py:295: FutureWarning: `torch.cpu.amp.autocast(args...)` is deprecated. Please use `torch.amp.autocast('cpu', args...)` instead.\n",
      "  with torch.enable_grad(), device_autocast_ctx, torch.cpu.amp.autocast(**ctx.cpu_autocast_kwargs):  # type: ignore[attr-defined]\n"
     ]
    },
    {
     "data": {
      "application/vnd.jupyter.widget-view+json": {
       "model_id": "8227a869af4c4c1a88fcec73f74f0b5c",
       "version_major": 2,
       "version_minor": 0
      },
      "text/plain": [
       "  0%|          | 0/11 [00:00<?, ?it/s]"
      ]
     },
     "metadata": {},
     "output_type": "display_data"
    },
    {
     "name": "stdout",
     "output_type": "stream",
     "text": [
      "Predicted Sample: \n",
      "[2 2 2 2 2 0 2 1 0 1]\n",
      "Actual Sample: \n",
      "[2 2 1 2 2 0 1 1 0 2]\n"
     ]
    },
    {
     "name": "stderr",
     "output_type": "stream",
     "text": [
      "C:\\Users\\Aum Thaker\\AppData\\Local\\Temp\\ipykernel_3088\\76004914.py:16: UserWarning: To copy construct from a tensor, it is recommended to use sourceTensor.clone().detach() or sourceTensor.clone().detach().requires_grad_(True), rather than torch.tensor(sourceTensor).\n",
      "  preds_prob = torch.nn.functional.softmax(torch.tensor(preds_float32), dim=-1)\n"
     ]
    },
    {
     "name": "stdout",
     "output_type": "stream",
     "text": [
      "{'eval_loss': 0.6383159160614014, 'eval_accuracy': 0.8521739130434782, 'eval_precision_weighted': 0.8856732911176686, 'eval_precision_macro': 0.818207511355893, 'eval_recall_weighted': 0.8521739130434782, 'eval_recall_macro': 0.9098065002191853, 'eval_f1_weighted': 0.854412409791293, 'eval_f1_macro': 0.848550649166732, 'eval_runtime': 3.7708, 'eval_samples_per_second': 91.492, 'eval_steps_per_second': 2.917, 'epoch': 3.0}\n"
     ]
    },
    {
     "name": "stderr",
     "output_type": "stream",
     "text": [
      "c:\\Users\\Aum Thaker\\Desktop\\VSC\\jupyter\\myvenv\\Lib\\site-packages\\torch\\_dynamo\\eval_frame.py:600: UserWarning: torch.utils.checkpoint: the use_reentrant parameter should be passed explicitly. In version 2.4 we will raise an exception if use_reentrant is not passed. use_reentrant=False is recommended, but if you need to preserve the current default behavior, you can pass use_reentrant=True. Refer to docs for more details on the differences between the two variants.\n",
      "  return fn(*args, **kwargs)\n",
      "c:\\Users\\Aum Thaker\\Desktop\\VSC\\jupyter\\myvenv\\Lib\\site-packages\\torch\\utils\\checkpoint.py:295: FutureWarning: `torch.cpu.amp.autocast(args...)` is deprecated. Please use `torch.amp.autocast('cpu', args...)` instead.\n",
      "  with torch.enable_grad(), device_autocast_ctx, torch.cpu.amp.autocast(**ctx.cpu_autocast_kwargs):  # type: ignore[attr-defined]\n"
     ]
    },
    {
     "data": {
      "application/vnd.jupyter.widget-view+json": {
       "model_id": "45d7795f2cff4150970df2ac7bf2c927",
       "version_major": 2,
       "version_minor": 0
      },
      "text/plain": [
       "  0%|          | 0/11 [00:00<?, ?it/s]"
      ]
     },
     "metadata": {},
     "output_type": "display_data"
    },
    {
     "name": "stdout",
     "output_type": "stream",
     "text": [
      "Predicted Sample: \n",
      "[2 2 2 2 2 0 2 1 0 1]\n",
      "Actual Sample: \n",
      "[2 2 1 2 2 0 1 1 0 2]\n"
     ]
    },
    {
     "name": "stderr",
     "output_type": "stream",
     "text": [
      "C:\\Users\\Aum Thaker\\AppData\\Local\\Temp\\ipykernel_3088\\76004914.py:16: UserWarning: To copy construct from a tensor, it is recommended to use sourceTensor.clone().detach() or sourceTensor.clone().detach().requires_grad_(True), rather than torch.tensor(sourceTensor).\n",
      "  preds_prob = torch.nn.functional.softmax(torch.tensor(preds_float32), dim=-1)\n"
     ]
    },
    {
     "name": "stdout",
     "output_type": "stream",
     "text": [
      "{'eval_loss': 0.6006162762641907, 'eval_accuracy': 0.855072463768116, 'eval_precision_weighted': 0.887258416921286, 'eval_precision_macro': 0.8202068216328465, 'eval_recall_weighted': 0.855072463768116, 'eval_recall_macro': 0.9113641326179391, 'eval_f1_weighted': 0.8572558661145618, 'eval_f1_macro': 0.8508432539682539, 'eval_runtime': 3.8726, 'eval_samples_per_second': 89.088, 'eval_steps_per_second': 2.841, 'epoch': 4.0}\n"
     ]
    },
    {
     "name": "stderr",
     "output_type": "stream",
     "text": [
      "c:\\Users\\Aum Thaker\\Desktop\\VSC\\jupyter\\myvenv\\Lib\\site-packages\\torch\\_dynamo\\eval_frame.py:600: UserWarning: torch.utils.checkpoint: the use_reentrant parameter should be passed explicitly. In version 2.4 we will raise an exception if use_reentrant is not passed. use_reentrant=False is recommended, but if you need to preserve the current default behavior, you can pass use_reentrant=True. Refer to docs for more details on the differences between the two variants.\n",
      "  return fn(*args, **kwargs)\n",
      "c:\\Users\\Aum Thaker\\Desktop\\VSC\\jupyter\\myvenv\\Lib\\site-packages\\torch\\utils\\checkpoint.py:295: FutureWarning: `torch.cpu.amp.autocast(args...)` is deprecated. Please use `torch.amp.autocast('cpu', args...)` instead.\n",
      "  with torch.enable_grad(), device_autocast_ctx, torch.cpu.amp.autocast(**ctx.cpu_autocast_kwargs):  # type: ignore[attr-defined]\n"
     ]
    },
    {
     "data": {
      "application/vnd.jupyter.widget-view+json": {
       "model_id": "fcf91d006fb7436da27378f41aae56db",
       "version_major": 2,
       "version_minor": 0
      },
      "text/plain": [
       "  0%|          | 0/11 [00:00<?, ?it/s]"
      ]
     },
     "metadata": {},
     "output_type": "display_data"
    },
    {
     "name": "stdout",
     "output_type": "stream",
     "text": [
      "Predicted Sample: \n",
      "[2 2 2 2 2 0 2 1 0 1]\n",
      "Actual Sample: \n",
      "[2 2 1 2 2 0 1 1 0 2]\n"
     ]
    },
    {
     "name": "stderr",
     "output_type": "stream",
     "text": [
      "C:\\Users\\Aum Thaker\\AppData\\Local\\Temp\\ipykernel_3088\\76004914.py:16: UserWarning: To copy construct from a tensor, it is recommended to use sourceTensor.clone().detach() or sourceTensor.clone().detach().requires_grad_(True), rather than torch.tensor(sourceTensor).\n",
      "  preds_prob = torch.nn.functional.softmax(torch.tensor(preds_float32), dim=-1)\n"
     ]
    },
    {
     "name": "stdout",
     "output_type": "stream",
     "text": [
      "{'eval_loss': 0.5538648366928101, 'eval_accuracy': 0.8608695652173913, 'eval_precision_weighted': 0.8906753852121766, 'eval_precision_macro': 0.8270476817317537, 'eval_recall_weighted': 0.8608695652173913, 'eval_recall_macro': 0.9144793974154469, 'eval_f1_weighted': 0.8630055837539742, 'eval_f1_macro': 0.8571138160993629, 'eval_runtime': 3.7975, 'eval_samples_per_second': 90.85, 'eval_steps_per_second': 2.897, 'epoch': 5.0}\n"
     ]
    },
    {
     "name": "stderr",
     "output_type": "stream",
     "text": [
      "c:\\Users\\Aum Thaker\\Desktop\\VSC\\jupyter\\myvenv\\Lib\\site-packages\\torch\\_dynamo\\eval_frame.py:600: UserWarning: torch.utils.checkpoint: the use_reentrant parameter should be passed explicitly. In version 2.4 we will raise an exception if use_reentrant is not passed. use_reentrant=False is recommended, but if you need to preserve the current default behavior, you can pass use_reentrant=True. Refer to docs for more details on the differences between the two variants.\n",
      "  return fn(*args, **kwargs)\n",
      "c:\\Users\\Aum Thaker\\Desktop\\VSC\\jupyter\\myvenv\\Lib\\site-packages\\torch\\utils\\checkpoint.py:295: FutureWarning: `torch.cpu.amp.autocast(args...)` is deprecated. Please use `torch.amp.autocast('cpu', args...)` instead.\n",
      "  with torch.enable_grad(), device_autocast_ctx, torch.cpu.amp.autocast(**ctx.cpu_autocast_kwargs):  # type: ignore[attr-defined]\n"
     ]
    },
    {
     "data": {
      "application/vnd.jupyter.widget-view+json": {
       "model_id": "b840d1bbe75148f8aa211496b147ce18",
       "version_major": 2,
       "version_minor": 0
      },
      "text/plain": [
       "  0%|          | 0/11 [00:00<?, ?it/s]"
      ]
     },
     "metadata": {},
     "output_type": "display_data"
    },
    {
     "name": "stdout",
     "output_type": "stream",
     "text": [
      "Predicted Sample: \n",
      "[2 2 2 2 2 0 2 1 0 1]\n",
      "Actual Sample: \n",
      "[2 2 1 2 2 0 1 1 0 2]\n"
     ]
    },
    {
     "name": "stderr",
     "output_type": "stream",
     "text": [
      "C:\\Users\\Aum Thaker\\AppData\\Local\\Temp\\ipykernel_3088\\76004914.py:16: UserWarning: To copy construct from a tensor, it is recommended to use sourceTensor.clone().detach() or sourceTensor.clone().detach().requires_grad_(True), rather than torch.tensor(sourceTensor).\n",
      "  preds_prob = torch.nn.functional.softmax(torch.tensor(preds_float32), dim=-1)\n"
     ]
    },
    {
     "name": "stdout",
     "output_type": "stream",
     "text": [
      "{'eval_loss': 0.5019505023956299, 'eval_accuracy': 0.8782608695652174, 'eval_precision_weighted': 0.900883701728351, 'eval_precision_macro': 0.8399629559376499, 'eval_recall_weighted': 0.8782608695652174, 'eval_recall_macro': 0.9238251918079703, 'eval_f1_weighted': 0.8800283316988122, 'eval_f1_macro': 0.8710526315789474, 'eval_runtime': 3.9304, 'eval_samples_per_second': 87.777, 'eval_steps_per_second': 2.799, 'epoch': 6.0}\n"
     ]
    },
    {
     "name": "stderr",
     "output_type": "stream",
     "text": [
      "c:\\Users\\Aum Thaker\\Desktop\\VSC\\jupyter\\myvenv\\Lib\\site-packages\\torch\\_dynamo\\eval_frame.py:600: UserWarning: torch.utils.checkpoint: the use_reentrant parameter should be passed explicitly. In version 2.4 we will raise an exception if use_reentrant is not passed. use_reentrant=False is recommended, but if you need to preserve the current default behavior, you can pass use_reentrant=True. Refer to docs for more details on the differences between the two variants.\n",
      "  return fn(*args, **kwargs)\n",
      "c:\\Users\\Aum Thaker\\Desktop\\VSC\\jupyter\\myvenv\\Lib\\site-packages\\torch\\utils\\checkpoint.py:295: FutureWarning: `torch.cpu.amp.autocast(args...)` is deprecated. Please use `torch.amp.autocast('cpu', args...)` instead.\n",
      "  with torch.enable_grad(), device_autocast_ctx, torch.cpu.amp.autocast(**ctx.cpu_autocast_kwargs):  # type: ignore[attr-defined]\n"
     ]
    },
    {
     "data": {
      "application/vnd.jupyter.widget-view+json": {
       "model_id": "6a1fdd108fc04e3a9da66976d9a53e58",
       "version_major": 2,
       "version_minor": 0
      },
      "text/plain": [
       "  0%|          | 0/11 [00:00<?, ?it/s]"
      ]
     },
     "metadata": {},
     "output_type": "display_data"
    },
    {
     "name": "stdout",
     "output_type": "stream",
     "text": [
      "Predicted Sample: \n",
      "[2 2 1 2 2 0 2 1 0 1]\n",
      "Actual Sample: \n",
      "[2 2 1 2 2 0 1 1 0 2]\n"
     ]
    },
    {
     "name": "stderr",
     "output_type": "stream",
     "text": [
      "C:\\Users\\Aum Thaker\\AppData\\Local\\Temp\\ipykernel_3088\\76004914.py:16: UserWarning: To copy construct from a tensor, it is recommended to use sourceTensor.clone().detach() or sourceTensor.clone().detach().requires_grad_(True), rather than torch.tensor(sourceTensor).\n",
      "  preds_prob = torch.nn.functional.softmax(torch.tensor(preds_float32), dim=-1)\n"
     ]
    },
    {
     "name": "stdout",
     "output_type": "stream",
     "text": [
      "{'eval_loss': 0.45361778140068054, 'eval_accuracy': 0.8927536231884058, 'eval_precision_weighted': 0.9101394115506731, 'eval_precision_macro': 0.8543257289158929, 'eval_recall_weighted': 0.8927536231884058, 'eval_recall_macro': 0.9316133538017398, 'eval_f1_weighted': 0.8942400259908866, 'eval_f1_macro': 0.8845044307950242, 'eval_runtime': 3.7912, 'eval_samples_per_second': 90.999, 'eval_steps_per_second': 2.901, 'epoch': 7.0}\n"
     ]
    },
    {
     "name": "stderr",
     "output_type": "stream",
     "text": [
      "c:\\Users\\Aum Thaker\\Desktop\\VSC\\jupyter\\myvenv\\Lib\\site-packages\\torch\\_dynamo\\eval_frame.py:600: UserWarning: torch.utils.checkpoint: the use_reentrant parameter should be passed explicitly. In version 2.4 we will raise an exception if use_reentrant is not passed. use_reentrant=False is recommended, but if you need to preserve the current default behavior, you can pass use_reentrant=True. Refer to docs for more details on the differences between the two variants.\n",
      "  return fn(*args, **kwargs)\n",
      "c:\\Users\\Aum Thaker\\Desktop\\VSC\\jupyter\\myvenv\\Lib\\site-packages\\torch\\utils\\checkpoint.py:295: FutureWarning: `torch.cpu.amp.autocast(args...)` is deprecated. Please use `torch.amp.autocast('cpu', args...)` instead.\n",
      "  with torch.enable_grad(), device_autocast_ctx, torch.cpu.amp.autocast(**ctx.cpu_autocast_kwargs):  # type: ignore[attr-defined]\n"
     ]
    },
    {
     "data": {
      "application/vnd.jupyter.widget-view+json": {
       "model_id": "34565c795e804cff88aa5fe3bfe7ff9e",
       "version_major": 2,
       "version_minor": 0
      },
      "text/plain": [
       "  0%|          | 0/11 [00:00<?, ?it/s]"
      ]
     },
     "metadata": {},
     "output_type": "display_data"
    },
    {
     "name": "stdout",
     "output_type": "stream",
     "text": [
      "Predicted Sample: \n",
      "[2 2 1 2 2 0 2 1 0 1]\n",
      "Actual Sample: \n",
      "[2 2 1 2 2 0 1 1 0 2]\n"
     ]
    },
    {
     "name": "stderr",
     "output_type": "stream",
     "text": [
      "C:\\Users\\Aum Thaker\\AppData\\Local\\Temp\\ipykernel_3088\\76004914.py:16: UserWarning: To copy construct from a tensor, it is recommended to use sourceTensor.clone().detach() or sourceTensor.clone().detach().requires_grad_(True), rather than torch.tensor(sourceTensor).\n",
      "  preds_prob = torch.nn.functional.softmax(torch.tensor(preds_float32), dim=-1)\n"
     ]
    },
    {
     "name": "stdout",
     "output_type": "stream",
     "text": [
      "{'eval_loss': 0.4154874384403229, 'eval_accuracy': 0.8956521739130435, 'eval_precision_weighted': 0.912066525879155, 'eval_precision_macro': 0.8567741094167101, 'eval_recall_weighted': 0.8956521739130435, 'eval_recall_macro': 0.9331709862004937, 'eval_f1_weighted': 0.8970830004778658, 'eval_f1_macro': 0.8868920143377537, 'eval_runtime': 3.8177, 'eval_samples_per_second': 90.368, 'eval_steps_per_second': 2.881, 'epoch': 8.0}\n"
     ]
    },
    {
     "name": "stderr",
     "output_type": "stream",
     "text": [
      "c:\\Users\\Aum Thaker\\Desktop\\VSC\\jupyter\\myvenv\\Lib\\site-packages\\torch\\_dynamo\\eval_frame.py:600: UserWarning: torch.utils.checkpoint: the use_reentrant parameter should be passed explicitly. In version 2.4 we will raise an exception if use_reentrant is not passed. use_reentrant=False is recommended, but if you need to preserve the current default behavior, you can pass use_reentrant=True. Refer to docs for more details on the differences between the two variants.\n",
      "  return fn(*args, **kwargs)\n",
      "c:\\Users\\Aum Thaker\\Desktop\\VSC\\jupyter\\myvenv\\Lib\\site-packages\\torch\\utils\\checkpoint.py:295: FutureWarning: `torch.cpu.amp.autocast(args...)` is deprecated. Please use `torch.amp.autocast('cpu', args...)` instead.\n",
      "  with torch.enable_grad(), device_autocast_ctx, torch.cpu.amp.autocast(**ctx.cpu_autocast_kwargs):  # type: ignore[attr-defined]\n"
     ]
    },
    {
     "data": {
      "application/vnd.jupyter.widget-view+json": {
       "model_id": "b26633e03b3640a59690db5cd6105fc5",
       "version_major": 2,
       "version_minor": 0
      },
      "text/plain": [
       "  0%|          | 0/11 [00:00<?, ?it/s]"
      ]
     },
     "metadata": {},
     "output_type": "display_data"
    },
    {
     "name": "stdout",
     "output_type": "stream",
     "text": [
      "Predicted Sample: \n",
      "[2 2 1 2 2 0 2 1 0 1]\n",
      "Actual Sample: \n",
      "[2 2 1 2 2 0 1 1 0 2]\n"
     ]
    },
    {
     "name": "stderr",
     "output_type": "stream",
     "text": [
      "C:\\Users\\Aum Thaker\\AppData\\Local\\Temp\\ipykernel_3088\\76004914.py:16: UserWarning: To copy construct from a tensor, it is recommended to use sourceTensor.clone().detach() or sourceTensor.clone().detach().requires_grad_(True), rather than torch.tensor(sourceTensor).\n",
      "  preds_prob = torch.nn.functional.softmax(torch.tensor(preds_float32), dim=-1)\n"
     ]
    },
    {
     "name": "stdout",
     "output_type": "stream",
     "text": [
      "{'eval_loss': 0.3859139680862427, 'eval_accuracy': 0.9043478260869565, 'eval_precision_weighted': 0.9179747517803784, 'eval_precision_macro': 0.8698375916022975, 'eval_recall_weighted': 0.9043478260869565, 'eval_recall_macro': 0.9378438833967554, 'eval_f1_weighted': 0.9056027452056656, 'eval_f1_macro': 0.897419604817134, 'eval_runtime': 3.8081, 'eval_samples_per_second': 90.596, 'eval_steps_per_second': 2.889, 'epoch': 9.0}\n"
     ]
    },
    {
     "name": "stderr",
     "output_type": "stream",
     "text": [
      "c:\\Users\\Aum Thaker\\Desktop\\VSC\\jupyter\\myvenv\\Lib\\site-packages\\torch\\_dynamo\\eval_frame.py:600: UserWarning: torch.utils.checkpoint: the use_reentrant parameter should be passed explicitly. In version 2.4 we will raise an exception if use_reentrant is not passed. use_reentrant=False is recommended, but if you need to preserve the current default behavior, you can pass use_reentrant=True. Refer to docs for more details on the differences between the two variants.\n",
      "  return fn(*args, **kwargs)\n",
      "c:\\Users\\Aum Thaker\\Desktop\\VSC\\jupyter\\myvenv\\Lib\\site-packages\\torch\\utils\\checkpoint.py:295: FutureWarning: `torch.cpu.amp.autocast(args...)` is deprecated. Please use `torch.amp.autocast('cpu', args...)` instead.\n",
      "  with torch.enable_grad(), device_autocast_ctx, torch.cpu.amp.autocast(**ctx.cpu_autocast_kwargs):  # type: ignore[attr-defined]\n"
     ]
    },
    {
     "data": {
      "application/vnd.jupyter.widget-view+json": {
       "model_id": "0adc44c9e0764d72be3acdd0be100726",
       "version_major": 2,
       "version_minor": 0
      },
      "text/plain": [
       "  0%|          | 0/11 [00:00<?, ?it/s]"
      ]
     },
     "metadata": {},
     "output_type": "display_data"
    },
    {
     "name": "stdout",
     "output_type": "stream",
     "text": [
      "Predicted Sample: \n",
      "[2 2 1 2 2 0 2 1 0 1]\n",
      "Actual Sample: \n",
      "[2 2 1 2 2 0 1 1 0 2]\n"
     ]
    },
    {
     "name": "stderr",
     "output_type": "stream",
     "text": [
      "C:\\Users\\Aum Thaker\\AppData\\Local\\Temp\\ipykernel_3088\\76004914.py:16: UserWarning: To copy construct from a tensor, it is recommended to use sourceTensor.clone().detach() or sourceTensor.clone().detach().requires_grad_(True), rather than torch.tensor(sourceTensor).\n",
      "  preds_prob = torch.nn.functional.softmax(torch.tensor(preds_float32), dim=-1)\n"
     ]
    },
    {
     "name": "stdout",
     "output_type": "stream",
     "text": [
      "{'eval_loss': 0.36250415444374084, 'eval_accuracy': 0.9043478260869565, 'eval_precision_weighted': 0.9179747517803784, 'eval_precision_macro': 0.8698375916022975, 'eval_recall_weighted': 0.9043478260869565, 'eval_recall_macro': 0.9378438833967554, 'eval_f1_weighted': 0.9056027452056656, 'eval_f1_macro': 0.897419604817134, 'eval_runtime': 3.7552, 'eval_samples_per_second': 91.872, 'eval_steps_per_second': 2.929, 'epoch': 10.0}\n"
     ]
    },
    {
     "name": "stderr",
     "output_type": "stream",
     "text": [
      "c:\\Users\\Aum Thaker\\Desktop\\VSC\\jupyter\\myvenv\\Lib\\site-packages\\peft\\utils\\other.py:611: UserWarning: Unable to fetch remote file due to the following error (ReadTimeoutError(\"HTTPSConnectionPool(host='huggingface.co', port=443): Read timed out. (read timeout=10)\"), '(Request ID: ac80d556-3044-4b26-a41b-1f889edb721d)') - silently ignoring the lookup for the file config.json in soleimanian/financial-roberta-large-sentiment.\n",
      "  warnings.warn(\n",
      "c:\\Users\\Aum Thaker\\Desktop\\VSC\\jupyter\\myvenv\\Lib\\site-packages\\peft\\utils\\save_and_load.py:195: UserWarning: Could not find a config file in soleimanian/financial-roberta-large-sentiment - will assume that the vocabulary was not modified.\n",
      "  warnings.warn(\n",
      "c:\\Users\\Aum Thaker\\Desktop\\VSC\\jupyter\\myvenv\\Lib\\site-packages\\torch\\_dynamo\\eval_frame.py:600: UserWarning: torch.utils.checkpoint: the use_reentrant parameter should be passed explicitly. In version 2.4 we will raise an exception if use_reentrant is not passed. use_reentrant=False is recommended, but if you need to preserve the current default behavior, you can pass use_reentrant=True. Refer to docs for more details on the differences between the two variants.\n",
      "  return fn(*args, **kwargs)\n",
      "c:\\Users\\Aum Thaker\\Desktop\\VSC\\jupyter\\myvenv\\Lib\\site-packages\\torch\\utils\\checkpoint.py:295: FutureWarning: `torch.cpu.amp.autocast(args...)` is deprecated. Please use `torch.amp.autocast('cpu', args...)` instead.\n",
      "  with torch.enable_grad(), device_autocast_ctx, torch.cpu.amp.autocast(**ctx.cpu_autocast_kwargs):  # type: ignore[attr-defined]\n"
     ]
    },
    {
     "data": {
      "application/vnd.jupyter.widget-view+json": {
       "model_id": "3b1d9bcc97a14e03b7905c90fe0c24af",
       "version_major": 2,
       "version_minor": 0
      },
      "text/plain": [
       "  0%|          | 0/11 [00:00<?, ?it/s]"
      ]
     },
     "metadata": {},
     "output_type": "display_data"
    },
    {
     "name": "stdout",
     "output_type": "stream",
     "text": [
      "Predicted Sample: \n",
      "[2 2 1 2 2 0 2 1 0 1]\n",
      "Actual Sample: \n",
      "[2 2 1 2 2 0 1 1 0 2]\n"
     ]
    },
    {
     "name": "stderr",
     "output_type": "stream",
     "text": [
      "C:\\Users\\Aum Thaker\\AppData\\Local\\Temp\\ipykernel_3088\\76004914.py:16: UserWarning: To copy construct from a tensor, it is recommended to use sourceTensor.clone().detach() or sourceTensor.clone().detach().requires_grad_(True), rather than torch.tensor(sourceTensor).\n",
      "  preds_prob = torch.nn.functional.softmax(torch.tensor(preds_float32), dim=-1)\n"
     ]
    },
    {
     "name": "stdout",
     "output_type": "stream",
     "text": [
      "{'eval_loss': 0.34431618452072144, 'eval_accuracy': 0.9101449275362319, 'eval_precision_weighted': 0.9220009983028851, 'eval_precision_macro': 0.8749605670360387, 'eval_recall_weighted': 0.9101449275362319, 'eval_recall_macro': 0.9409591481942631, 'eval_f1_weighted': 0.9112713877175126, 'eval_f1_macro': 0.9022296544035675, 'eval_runtime': 3.7213, 'eval_samples_per_second': 92.71, 'eval_steps_per_second': 2.956, 'epoch': 11.0}\n"
     ]
    },
    {
     "name": "stderr",
     "output_type": "stream",
     "text": [
      "c:\\Users\\Aum Thaker\\Desktop\\VSC\\jupyter\\myvenv\\Lib\\site-packages\\torch\\_dynamo\\eval_frame.py:600: UserWarning: torch.utils.checkpoint: the use_reentrant parameter should be passed explicitly. In version 2.4 we will raise an exception if use_reentrant is not passed. use_reentrant=False is recommended, but if you need to preserve the current default behavior, you can pass use_reentrant=True. Refer to docs for more details on the differences between the two variants.\n",
      "  return fn(*args, **kwargs)\n",
      "c:\\Users\\Aum Thaker\\Desktop\\VSC\\jupyter\\myvenv\\Lib\\site-packages\\torch\\utils\\checkpoint.py:295: FutureWarning: `torch.cpu.amp.autocast(args...)` is deprecated. Please use `torch.amp.autocast('cpu', args...)` instead.\n",
      "  with torch.enable_grad(), device_autocast_ctx, torch.cpu.amp.autocast(**ctx.cpu_autocast_kwargs):  # type: ignore[attr-defined]\n"
     ]
    },
    {
     "data": {
      "application/vnd.jupyter.widget-view+json": {
       "model_id": "8676ef6d4c7040159e3947fcbe78b607",
       "version_major": 2,
       "version_minor": 0
      },
      "text/plain": [
       "  0%|          | 0/11 [00:00<?, ?it/s]"
      ]
     },
     "metadata": {},
     "output_type": "display_data"
    },
    {
     "name": "stdout",
     "output_type": "stream",
     "text": [
      "Predicted Sample: \n",
      "[2 2 1 2 2 0 2 1 0 1]\n",
      "Actual Sample: \n",
      "[2 2 1 2 2 0 1 1 0 2]\n"
     ]
    },
    {
     "name": "stderr",
     "output_type": "stream",
     "text": [
      "C:\\Users\\Aum Thaker\\AppData\\Local\\Temp\\ipykernel_3088\\76004914.py:16: UserWarning: To copy construct from a tensor, it is recommended to use sourceTensor.clone().detach() or sourceTensor.clone().detach().requires_grad_(True), rather than torch.tensor(sourceTensor).\n",
      "  preds_prob = torch.nn.functional.softmax(torch.tensor(preds_float32), dim=-1)\n"
     ]
    },
    {
     "name": "stdout",
     "output_type": "stream",
     "text": [
      "{'eval_loss': 0.3311152458190918, 'eval_accuracy': 0.9101449275362319, 'eval_precision_weighted': 0.9220009983028851, 'eval_precision_macro': 0.8749605670360387, 'eval_recall_weighted': 0.9101449275362319, 'eval_recall_macro': 0.9409591481942631, 'eval_f1_weighted': 0.9112713877175126, 'eval_f1_macro': 0.9022296544035675, 'eval_runtime': 3.7684, 'eval_samples_per_second': 91.55, 'eval_steps_per_second': 2.919, 'epoch': 12.0}\n"
     ]
    },
    {
     "name": "stderr",
     "output_type": "stream",
     "text": [
      "c:\\Users\\Aum Thaker\\Desktop\\VSC\\jupyter\\myvenv\\Lib\\site-packages\\torch\\_dynamo\\eval_frame.py:600: UserWarning: torch.utils.checkpoint: the use_reentrant parameter should be passed explicitly. In version 2.4 we will raise an exception if use_reentrant is not passed. use_reentrant=False is recommended, but if you need to preserve the current default behavior, you can pass use_reentrant=True. Refer to docs for more details on the differences between the two variants.\n",
      "  return fn(*args, **kwargs)\n",
      "c:\\Users\\Aum Thaker\\Desktop\\VSC\\jupyter\\myvenv\\Lib\\site-packages\\torch\\utils\\checkpoint.py:295: FutureWarning: `torch.cpu.amp.autocast(args...)` is deprecated. Please use `torch.amp.autocast('cpu', args...)` instead.\n",
      "  with torch.enable_grad(), device_autocast_ctx, torch.cpu.amp.autocast(**ctx.cpu_autocast_kwargs):  # type: ignore[attr-defined]\n"
     ]
    },
    {
     "data": {
      "application/vnd.jupyter.widget-view+json": {
       "model_id": "b51ee853d5744620908aac78eebdf00e",
       "version_major": 2,
       "version_minor": 0
      },
      "text/plain": [
       "  0%|          | 0/11 [00:00<?, ?it/s]"
      ]
     },
     "metadata": {},
     "output_type": "display_data"
    },
    {
     "name": "stdout",
     "output_type": "stream",
     "text": [
      "Predicted Sample: \n",
      "[2 2 1 2 2 0 2 1 0 1]\n",
      "Actual Sample: \n",
      "[2 2 1 2 2 0 1 1 0 2]\n"
     ]
    },
    {
     "name": "stderr",
     "output_type": "stream",
     "text": [
      "C:\\Users\\Aum Thaker\\AppData\\Local\\Temp\\ipykernel_3088\\76004914.py:16: UserWarning: To copy construct from a tensor, it is recommended to use sourceTensor.clone().detach() or sourceTensor.clone().detach().requires_grad_(True), rather than torch.tensor(sourceTensor).\n",
      "  preds_prob = torch.nn.functional.softmax(torch.tensor(preds_float32), dim=-1)\n"
     ]
    },
    {
     "name": "stdout",
     "output_type": "stream",
     "text": [
      "{'eval_loss': 0.3225196301937103, 'eval_accuracy': 0.9101449275362319, 'eval_precision_weighted': 0.9220009983028851, 'eval_precision_macro': 0.8749605670360387, 'eval_recall_weighted': 0.9101449275362319, 'eval_recall_macro': 0.9409591481942631, 'eval_f1_weighted': 0.9112713877175126, 'eval_f1_macro': 0.9022296544035675, 'eval_runtime': 3.8389, 'eval_samples_per_second': 89.869, 'eval_steps_per_second': 2.865, 'epoch': 13.0}\n"
     ]
    },
    {
     "name": "stderr",
     "output_type": "stream",
     "text": [
      "c:\\Users\\Aum Thaker\\Desktop\\VSC\\jupyter\\myvenv\\Lib\\site-packages\\torch\\_dynamo\\eval_frame.py:600: UserWarning: torch.utils.checkpoint: the use_reentrant parameter should be passed explicitly. In version 2.4 we will raise an exception if use_reentrant is not passed. use_reentrant=False is recommended, but if you need to preserve the current default behavior, you can pass use_reentrant=True. Refer to docs for more details on the differences between the two variants.\n",
      "  return fn(*args, **kwargs)\n",
      "c:\\Users\\Aum Thaker\\Desktop\\VSC\\jupyter\\myvenv\\Lib\\site-packages\\torch\\utils\\checkpoint.py:295: FutureWarning: `torch.cpu.amp.autocast(args...)` is deprecated. Please use `torch.amp.autocast('cpu', args...)` instead.\n",
      "  with torch.enable_grad(), device_autocast_ctx, torch.cpu.amp.autocast(**ctx.cpu_autocast_kwargs):  # type: ignore[attr-defined]\n"
     ]
    },
    {
     "data": {
      "application/vnd.jupyter.widget-view+json": {
       "model_id": "1347a5821b254af8867208fd39af2d6a",
       "version_major": 2,
       "version_minor": 0
      },
      "text/plain": [
       "  0%|          | 0/11 [00:00<?, ?it/s]"
      ]
     },
     "metadata": {},
     "output_type": "display_data"
    },
    {
     "name": "stdout",
     "output_type": "stream",
     "text": [
      "Predicted Sample: \n",
      "[2 2 1 2 2 0 2 1 0 1]\n",
      "Actual Sample: \n",
      "[2 2 1 2 2 0 1 1 0 2]\n"
     ]
    },
    {
     "name": "stderr",
     "output_type": "stream",
     "text": [
      "C:\\Users\\Aum Thaker\\AppData\\Local\\Temp\\ipykernel_3088\\76004914.py:16: UserWarning: To copy construct from a tensor, it is recommended to use sourceTensor.clone().detach() or sourceTensor.clone().detach().requires_grad_(True), rather than torch.tensor(sourceTensor).\n",
      "  preds_prob = torch.nn.functional.softmax(torch.tensor(preds_float32), dim=-1)\n"
     ]
    },
    {
     "name": "stdout",
     "output_type": "stream",
     "text": [
      "{'eval_loss': 0.3176673352718353, 'eval_accuracy': 0.9101449275362319, 'eval_precision_weighted': 0.9204796939671032, 'eval_precision_macro': 0.8777152139791674, 'eval_recall_weighted': 0.9101449275362319, 'eval_recall_macro': 0.934580272656509, 'eval_f1_weighted': 0.9112129595221384, 'eval_f1_macro': 0.9015511237733459, 'eval_runtime': 3.7846, 'eval_samples_per_second': 91.159, 'eval_steps_per_second': 2.907, 'epoch': 14.0}\n"
     ]
    },
    {
     "name": "stderr",
     "output_type": "stream",
     "text": [
      "c:\\Users\\Aum Thaker\\Desktop\\VSC\\jupyter\\myvenv\\Lib\\site-packages\\torch\\_dynamo\\eval_frame.py:600: UserWarning: torch.utils.checkpoint: the use_reentrant parameter should be passed explicitly. In version 2.4 we will raise an exception if use_reentrant is not passed. use_reentrant=False is recommended, but if you need to preserve the current default behavior, you can pass use_reentrant=True. Refer to docs for more details on the differences between the two variants.\n",
      "  return fn(*args, **kwargs)\n",
      "c:\\Users\\Aum Thaker\\Desktop\\VSC\\jupyter\\myvenv\\Lib\\site-packages\\torch\\utils\\checkpoint.py:295: FutureWarning: `torch.cpu.amp.autocast(args...)` is deprecated. Please use `torch.amp.autocast('cpu', args...)` instead.\n",
      "  with torch.enable_grad(), device_autocast_ctx, torch.cpu.amp.autocast(**ctx.cpu_autocast_kwargs):  # type: ignore[attr-defined]\n"
     ]
    },
    {
     "data": {
      "application/vnd.jupyter.widget-view+json": {
       "model_id": "bc454defde4d4fc1836fac601596b194",
       "version_major": 2,
       "version_minor": 0
      },
      "text/plain": [
       "  0%|          | 0/11 [00:00<?, ?it/s]"
      ]
     },
     "metadata": {},
     "output_type": "display_data"
    },
    {
     "name": "stdout",
     "output_type": "stream",
     "text": [
      "Predicted Sample: \n",
      "[2 2 1 2 2 0 2 1 0 1]\n",
      "Actual Sample: \n",
      "[2 2 1 2 2 0 1 1 0 2]\n"
     ]
    },
    {
     "name": "stderr",
     "output_type": "stream",
     "text": [
      "C:\\Users\\Aum Thaker\\AppData\\Local\\Temp\\ipykernel_3088\\76004914.py:16: UserWarning: To copy construct from a tensor, it is recommended to use sourceTensor.clone().detach() or sourceTensor.clone().detach().requires_grad_(True), rather than torch.tensor(sourceTensor).\n",
      "  preds_prob = torch.nn.functional.softmax(torch.tensor(preds_float32), dim=-1)\n"
     ]
    },
    {
     "name": "stdout",
     "output_type": "stream",
     "text": [
      "{'eval_loss': 0.31573766469955444, 'eval_accuracy': 0.9101449275362319, 'eval_precision_weighted': 0.9204796939671032, 'eval_precision_macro': 0.8777152139791674, 'eval_recall_weighted': 0.9101449275362319, 'eval_recall_macro': 0.934580272656509, 'eval_f1_weighted': 0.9112129595221384, 'eval_f1_macro': 0.9015511237733459, 'eval_runtime': 3.9233, 'eval_samples_per_second': 87.937, 'eval_steps_per_second': 2.804, 'epoch': 15.0}\n",
      "{'train_runtime': 8292.1953, 'train_samples_per_second': 4.996, 'train_steps_per_second': 0.02, 'train_loss': 0.4390633322975852, 'epoch': 15.0}\n"
     ]
    },
    {
     "data": {
      "text/plain": [
       "TrainOutput(global_step=165, training_loss=0.4390633322975852, metrics={'train_runtime': 8292.1953, 'train_samples_per_second': 4.996, 'train_steps_per_second': 0.02, 'total_flos': 1.022036761427724e+16, 'train_loss': 0.4390633322975852, 'epoch': 15.0})"
      ]
     },
     "execution_count": 60,
     "metadata": {},
     "output_type": "execute_result"
    },
    {
     "name": "stderr",
     "output_type": "stream",
     "text": [
      "wandb: Network error resolved after 3:03:57.969446, resuming normal operation.\n",
      "wandb: Network error resolved after 0:01:27.345137, resuming normal operation.\n",
      "wandb: Network error resolved after 0:01:34.681490, resuming normal operation.\n",
      "wandb: Network error resolved after 1:42:10.976160, resuming normal operation.\n"
     ]
    }
   ],
   "source": [
    "trainer.train()"
   ]
  },
  {
   "cell_type": "code",
   "execution_count": 61,
   "metadata": {},
   "outputs": [
    {
     "data": {
      "application/vnd.jupyter.widget-view+json": {
       "model_id": "e57cdfdd54464c2ca99ea035a50d5292",
       "version_major": 2,
       "version_minor": 0
      },
      "text/plain": [
       "  0%|          | 0/11 [00:00<?, ?it/s]"
      ]
     },
     "metadata": {},
     "output_type": "display_data"
    },
    {
     "name": "stdout",
     "output_type": "stream",
     "text": [
      "Predicted Sample: \n",
      "[0 1 0 0 0 1 1 2 2 2]\n",
      "Actual Sample: \n",
      "[0 1 0 0 1 1 1 2 2 2]\n"
     ]
    },
    {
     "name": "stderr",
     "output_type": "stream",
     "text": [
      "C:\\Users\\Aum Thaker\\AppData\\Local\\Temp\\ipykernel_3088\\76004914.py:16: UserWarning: To copy construct from a tensor, it is recommended to use sourceTensor.clone().detach() or sourceTensor.clone().detach().requires_grad_(True), rather than torch.tensor(sourceTensor).\n",
      "  preds_prob = torch.nn.functional.softmax(torch.tensor(preds_float32), dim=-1)\n"
     ]
    }
   ],
   "source": [
    "test_results = trainer.predict(test_dataset)"
   ]
  },
  {
   "cell_type": "code",
   "execution_count": 62,
   "metadata": {},
   "outputs": [
    {
     "data": {
      "application/vnd.jupyter.widget-view+json": {
       "model_id": "8c37c66a0cc44c3c97e8fbdb6207d70f",
       "version_major": 2,
       "version_minor": 0
      },
      "text/plain": [
       "  0%|          | 0/11 [00:00<?, ?it/s]"
      ]
     },
     "metadata": {},
     "output_type": "display_data"
    },
    {
     "name": "stdout",
     "output_type": "stream",
     "text": [
      "Predicted Sample: \n",
      "[0 1 0 0 0 1 1 2 2 2]\n",
      "Actual Sample: \n",
      "[0 1 0 0 1 1 1 2 2 2]\n"
     ]
    },
    {
     "name": "stderr",
     "output_type": "stream",
     "text": [
      "C:\\Users\\Aum Thaker\\AppData\\Local\\Temp\\ipykernel_3088\\76004914.py:16: UserWarning: To copy construct from a tensor, it is recommended to use sourceTensor.clone().detach() or sourceTensor.clone().detach().requires_grad_(True), rather than torch.tensor(sourceTensor).\n",
      "  preds_prob = torch.nn.functional.softmax(torch.tensor(preds_float32), dim=-1)\n"
     ]
    },
    {
     "data": {
      "text/plain": [
       "{'eval_loss': 0.2725694477558136,\n",
       " 'eval_accuracy': 0.9219653179190751,\n",
       " 'eval_precision_weighted': 0.9332768443366245,\n",
       " 'eval_precision_macro': 0.8964210324313951,\n",
       " 'eval_recall_weighted': 0.9219653179190751,\n",
       " 'eval_recall_macro': 0.940977432694182,\n",
       " 'eval_f1_weighted': 0.923649618171909,\n",
       " 'eval_f1_macro': 0.9146551438125865,\n",
       " 'eval_runtime': 3.9592,\n",
       " 'eval_samples_per_second': 87.391,\n",
       " 'eval_steps_per_second': 2.778,\n",
       " 'epoch': 15.0}"
      ]
     },
     "execution_count": 62,
     "metadata": {},
     "output_type": "execute_result"
    }
   ],
   "source": [
    "trainer.evaluate(test_dataset)"
   ]
  },
  {
   "cell_type": "code",
   "execution_count": 63,
   "metadata": {},
   "outputs": [
    {
     "name": "stdout",
     "output_type": "stream",
     "text": [
      "PredictionOutput(predictions=array([[ 4.4882812 , -2.0859375 , -1.7275391 ],\n",
      "       [-3.4453125 ,  4.9648438 , -2.4882812 ],\n",
      "       [ 4.8085938 , -1.9384766 , -2.3222656 ],\n",
      "       ...,\n",
      "       [-2.7558594 ,  4.9453125 , -3.15625   ],\n",
      "       [-2.421875  , -0.83740234,  4.0351562 ],\n",
      "       [-3.5625    ,  5.0429688 , -2.390625  ]], dtype=float32), label_ids=array([0, 1, 0, 0, 1, 1, 1, 2, 2, 2, 2, 1, 1, 2, 0, 0, 1, 1, 2, 1, 1, 1,\n",
      "       1, 1, 1, 1, 1, 0, 2, 2, 2, 1, 1, 2, 1, 1, 2, 1, 2, 1, 2, 0, 0, 1,\n",
      "       0, 1, 2, 2, 2, 1, 1, 1, 1, 1, 1, 1, 1, 1, 1, 1, 1, 1, 1, 1, 1, 1,\n",
      "       2, 2, 1, 1, 1, 2, 2, 1, 1, 2, 1, 2, 2, 1, 1, 1, 1, 0, 1, 1, 0, 2,\n",
      "       1, 1, 1, 1, 2, 1, 0, 1, 0, 1, 2, 1, 1, 1, 1, 2, 1, 1, 2, 1, 0, 1,\n",
      "       1, 1, 1, 2, 2, 2, 2, 1, 0, 1, 2, 1, 2, 0, 1, 2, 2, 1, 2, 2, 1, 1,\n",
      "       2, 1, 2, 1, 1, 1, 0, 1, 1, 2, 1, 1, 2, 1, 1, 1, 1, 1, 1, 1, 2, 1,\n",
      "       1, 1, 2, 2, 2, 2, 0, 1, 1, 2, 0, 2, 1, 1, 1, 1, 1, 1, 1, 1, 0, 1,\n",
      "       2, 2, 2, 2, 0, 0, 1, 2, 1, 1, 1, 1, 1, 1, 1, 1, 2, 1, 1, 1, 1, 0,\n",
      "       2, 1, 1, 1, 1, 2, 1, 1, 1, 1, 1, 1, 2, 1, 1, 1, 1, 1, 2, 1, 1, 0,\n",
      "       1, 1, 1, 1, 0, 1, 1, 1, 1, 0, 1, 1, 2, 1, 2, 1, 2, 1, 1, 0, 1, 1,\n",
      "       0, 2, 0, 2, 1, 1, 2, 1, 1, 2, 1, 1, 2, 2, 1, 1, 1, 1, 1, 1, 2, 2,\n",
      "       1, 0, 1, 1, 2, 0, 1, 1, 1, 0, 0, 1, 1, 2, 1, 2, 0, 1, 1, 0, 1, 1,\n",
      "       1, 1, 2, 2, 1, 1, 1, 2, 2, 1, 1, 0, 2, 2, 0, 1, 2, 2, 1, 1, 1, 2,\n",
      "       1, 1, 1, 2, 1, 1, 1, 1, 0, 0, 1, 1, 2, 1, 1, 2, 1, 1, 1, 0, 1, 2,\n",
      "       1, 1, 1, 1, 1, 2, 0, 1, 1, 1, 0, 2, 1, 1, 2, 1], dtype=int64), metrics={'test_loss': 0.2725694477558136, 'test_accuracy': 0.9219653179190751, 'test_precision_weighted': 0.9332768443366245, 'test_precision_macro': 0.8964210324313951, 'test_recall_weighted': 0.9219653179190751, 'test_recall_macro': 0.940977432694182, 'test_f1_weighted': 0.923649618171909, 'test_f1_macro': 0.9146551438125865, 'test_runtime': 3.9718, 'test_samples_per_second': 87.114, 'test_steps_per_second': 2.77})\n"
     ]
    }
   ],
   "source": [
    "print(test_results)"
   ]
  },
  {
   "cell_type": "code",
   "execution_count": 64,
   "metadata": {},
   "outputs": [],
   "source": [
    "model.save_pretrained(r'Sentiment_Roberta')"
   ]
  },
  {
   "cell_type": "code",
   "execution_count": 65,
   "metadata": {},
   "outputs": [
    {
     "data": {
      "text/plain": [
       "('Sentiment_Roberta\\\\tokenizer_config.json',\n",
       " 'Sentiment_Roberta\\\\special_tokens_map.json',\n",
       " 'Sentiment_Roberta\\\\vocab.json',\n",
       " 'Sentiment_Roberta\\\\merges.txt',\n",
       " 'Sentiment_Roberta\\\\added_tokens.json',\n",
       " 'Sentiment_Roberta\\\\tokenizer.json')"
      ]
     },
     "execution_count": 65,
     "metadata": {},
     "output_type": "execute_result"
    }
   ],
   "source": [
    "tokenizer.save_pretrained(r'Sentiment_Roberta')"
   ]
  }
 ],
 "metadata": {
  "kernelspec": {
   "display_name": "k_",
   "language": "python",
   "name": "k_"
  },
  "language_info": {
   "codemirror_mode": {
    "name": "ipython",
    "version": 3
   },
   "file_extension": ".py",
   "mimetype": "text/x-python",
   "name": "python",
   "nbconvert_exporter": "python",
   "pygments_lexer": "ipython3",
   "version": "3.12.4"
  },
  "orig_nbformat": 4
 },
 "nbformat": 4,
 "nbformat_minor": 2
}
